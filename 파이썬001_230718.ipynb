{
 "cells": [
  {
   "cell_type": "code",
   "execution_count": null,
   "id": "2ede2040",
   "metadata": {},
   "outputs": [],
   "source": [
    "# 주석"
   ]
  },
  {
   "cell_type": "markdown",
   "id": "b0930af9",
   "metadata": {},
   "source": [
    "# 마크다운"
   ]
  },
  {
   "cell_type": "markdown",
   "id": "64d2b37a",
   "metadata": {},
   "source": [
    "### 마크다운 누르고"
   ]
  },
  {
   "cell_type": "markdown",
   "id": "5f40bbec",
   "metadata": {},
   "source": [
    "###### #여섯개는 기울임체설명글"
   ]
  },
  {
   "cell_type": "markdown",
   "id": "a2bbb52b",
   "metadata": {},
   "source": [
    "### ESC 누르고 Y하면 CODE"
   ]
  },
  {
   "cell_type": "markdown",
   "id": "3023f989",
   "metadata": {},
   "source": [
    "### ESC 누르고 M 하면 마크다운"
   ]
  },
  {
   "cell_type": "markdown",
   "id": "8a0d5f08",
   "metadata": {},
   "source": [
    "## 파이썬 시작하기"
   ]
  },
  {
   "cell_type": "markdown",
   "id": "76a4225d",
   "metadata": {},
   "source": [
    "컴파일 언어 : c, java, 실행속도 빠름 보완성 높음<br>\n",
    "스크립트 언어 : 인터프린터 방식 : 한줄한줄 해석해서 컴파일언어에 비해 실행속도가 느리다. 보완성 낮음<br>\n",
    "파이썬에서는 중괄호가 없어서 들여쓰기가 중요하다."
   ]
  },
  {
   "cell_type": "code",
   "execution_count": 4,
   "id": "1bdc486b",
   "metadata": {},
   "outputs": [
    {
     "name": "stdout",
     "output_type": "stream",
     "text": [
      "1\n",
      "10\n",
      "3\n"
     ]
    }
   ],
   "source": [
    "print(1)\n",
    "print(10)\n",
    "print(3)"
   ]
  },
  {
   "cell_type": "markdown",
   "id": "c0a066da",
   "metadata": {},
   "source": [
    "동적데이터 타입 결정\n",
    "#### 타입은 입력 데이터로 결정된다."
   ]
  },
  {
   "cell_type": "code",
   "execution_count": 5,
   "id": "be76baf7",
   "metadata": {
    "scrolled": true
   },
   "outputs": [
    {
     "name": "stdout",
     "output_type": "stream",
     "text": [
      "<class 'int'> <class 'str'> <class 'float'> <class 'bool'> <class 'int'>\n"
     ]
    }
   ],
   "source": [
    "a=1;\n",
    "b=\"1\"\n",
    "c=1.1\n",
    "d=True #첫글자가 대문자여야 인식된다.\n",
    "e=999999999999999999999999999999999999\n",
    "print(type(a),type(b),type(c),type(d),type(e))"
   ]
  },
  {
   "cell_type": "code",
   "execution_count": 6,
   "id": "3d1894d4",
   "metadata": {},
   "outputs": [
    {
     "name": "stdout",
     "output_type": "stream",
     "text": [
      "안녕하세요\n"
     ]
    }
   ],
   "source": [
    "a=\"안녕\"\n",
    "b=\"하세요\"\n",
    "print(a+b)"
   ]
  },
  {
   "cell_type": "code",
   "execution_count": 7,
   "id": "8520c850",
   "metadata": {},
   "outputs": [
    {
     "name": "stdout",
     "output_type": "stream",
     "text": [
      "[1, 2, 3, 4, 5, 6]\n"
     ]
    }
   ],
   "source": [
    "a=[1,2,3]\n",
    "b=[4,5,6]\n",
    "print(a+b)"
   ]
  },
  {
   "cell_type": "code",
   "execution_count": 8,
   "id": "01fd9226",
   "metadata": {},
   "outputs": [
    {
     "name": "stdout",
     "output_type": "stream",
     "text": [
      "3\n"
     ]
    }
   ],
   "source": [
    "a=1\n",
    "b=2\n",
    "print(a+b)"
   ]
  },
  {
   "cell_type": "markdown",
   "id": "01cd8f16",
   "metadata": {},
   "source": [
    "### 파이썬의 특징\n",
    "1. 플랫폼에 독립적\n",
    "2. 간단한 프로그램 작성 테스트하기 좋은 언어\n",
    "- 실행의 효율성보다는 개발기간의 단축에 초점이 맞춰져 있다.\n",
    "- 비교적 간단한 문법\n",
    "- 직관적이다.\n",
    "### 에디터\n",
    "- 주피터 노트북\n",
    "- pyCharm\n",
    "- 이클립스\n",
    "- VSCODE\n",
    "- 서브라임 등등"
   ]
  },
  {
   "cell_type": "code",
   "execution_count": 9,
   "id": "c230fe6c",
   "metadata": {},
   "outputs": [
    {
     "name": "stdout",
     "output_type": "stream",
     "text": [
      "<class 'int'> <class 'str'> <class 'float'> <class 'list'>\n",
      "Hello, World\n"
     ]
    }
   ],
   "source": [
    "# 미션 1\n",
    "t1=1\n",
    "t2='2'\n",
    "t3=1.0\n",
    "t4=[1]\n",
    "# 변수들의 타입 확인\n",
    "print(type(t1),type(t2),type(t3),type(t4))\n",
    "# 미션 2\n",
    "s1='He'\n",
    "s2='llo'\n",
    "s3=', World'\n",
    "# Hello World 출력\n",
    "print(s1+s2+s3)"
   ]
  },
  {
   "cell_type": "markdown",
   "id": "49ab0436",
   "metadata": {},
   "source": [
    "### 언어의 기본\n",
    "1. 식별자 # 대소문자 구분\n",
    "- 변수\n",
    "- 함수\n",
    "- 모듈\n",
    "- 클래스 등"
   ]
  },
  {
   "cell_type": "code",
   "execution_count": 10,
   "id": "095cdd46",
   "metadata": {},
   "outputs": [
    {
     "name": "stdout",
     "output_type": "stream",
     "text": [
      "123\n",
      "234\n",
      "123\n",
      "123\n",
      "234\n"
     ]
    }
   ],
   "source": [
    "A=123\n",
    "print(A)\n",
    "a=234\n",
    "print(a)\n",
    "# 첫글자 숫자 불가\n",
    "a1=123\n",
    "print(a1)\n",
    "# 1a=123\n",
    "\n",
    "# 첫글자로 _ 가능\n",
    "_a=123\n",
    "print(_a)\n",
    "# 특수문자 불가능\n",
    "# a&=123\n",
    "# print(a&)\n",
    "\n",
    "# 키워드 사용 불가\n",
    "#True = 123\n",
    "\n",
    "# 생성하지 않은 변수 바로 사용 불가\n",
    "print(a)"
   ]
  },
  {
   "cell_type": "code",
   "execution_count": 11,
   "id": "210e11c3",
   "metadata": {},
   "outputs": [
    {
     "name": "stdout",
     "output_type": "stream",
     "text": [
      "<class 'int'> <class 'str'> <class 'float'> <class 'complex'>\n"
     ]
    }
   ],
   "source": [
    "a=1\n",
    "b='문자'\n",
    "c=1.1\n",
    "d=4+1j\n",
    "print(type(a),type(b),type(c),type(d))"
   ]
  },
  {
   "cell_type": "markdown",
   "id": "d820b4d1",
   "metadata": {},
   "source": [
    "#### del 함수 사용해서 변수 삭제"
   ]
  },
  {
   "cell_type": "code",
   "execution_count": 12,
   "id": "130b5360",
   "metadata": {
    "scrolled": true
   },
   "outputs": [
    {
     "name": "stdout",
     "output_type": "stream",
     "text": [
      "1234\n"
     ]
    },
    {
     "ename": "NameError",
     "evalue": "name 'd1' is not defined",
     "output_type": "error",
     "traceback": [
      "\u001b[1;31m---------------------------------------------------------------------------\u001b[0m",
      "\u001b[1;31mNameError\u001b[0m                                 Traceback (most recent call last)",
      "Cell \u001b[1;32mIn[12], line 4\u001b[0m\n\u001b[0;32m      2\u001b[0m \u001b[38;5;28mprint\u001b[39m(d1)\n\u001b[0;32m      3\u001b[0m \u001b[38;5;28;01mdel\u001b[39;00m d1\n\u001b[1;32m----> 4\u001b[0m \u001b[38;5;28mprint\u001b[39m(\u001b[38;5;124m\"\u001b[39m\u001b[38;5;124mdel\u001b[39m\u001b[38;5;124m\"\u001b[39m,d1)\n",
      "\u001b[1;31mNameError\u001b[0m: name 'd1' is not defined"
     ]
    }
   ],
   "source": [
    "d1 = 1234\n",
    "print(d1)\n",
    "del d1\n",
    "print(\"del\",d1)"
   ]
  },
  {
   "cell_type": "markdown",
   "id": "537777d7",
   "metadata": {},
   "source": [
    "## input() 함수 사용해서 데이터 입력받기"
   ]
  },
  {
   "cell_type": "code",
   "execution_count": 13,
   "id": "6f82453d",
   "metadata": {},
   "outputs": [
    {
     "name": "stdout",
     "output_type": "stream",
     "text": [
      "숫자를 입력하세요 : 00\n",
      "00\n",
      "<class 'str'>\n"
     ]
    }
   ],
   "source": [
    "input_num=input(\"숫자를 입력하세요 : \")\n",
    "print(input_num)\n",
    "print(type(input_num))"
   ]
  },
  {
   "cell_type": "markdown",
   "id": "5ba3eed2",
   "metadata": {},
   "source": [
    "## 타입 변환"
   ]
  },
  {
   "cell_type": "code",
   "execution_count": 14,
   "id": "42a5acb9",
   "metadata": {},
   "outputs": [
    {
     "name": "stdout",
     "output_type": "stream",
     "text": [
      "00 <class 'str'>\n",
      "0 <class 'int'>\n"
     ]
    }
   ],
   "source": [
    "print(input_num,type(input_num))\n",
    "a=int(input_num)\n",
    "print(a,type(a))"
   ]
  },
  {
   "cell_type": "markdown",
   "id": "44d449bf",
   "metadata": {},
   "source": [
    "### 출력함수 print() <br> 바로 연산가능"
   ]
  },
  {
   "cell_type": "code",
   "execution_count": 15,
   "id": "c32c62e2",
   "metadata": {},
   "outputs": [
    {
     "name": "stdout",
     "output_type": "stream",
     "text": [
      "5\n",
      "6\n",
      "1+1\n",
      "2\n"
     ]
    }
   ],
   "source": [
    "print(2+3)\n",
    "print(2*3)\n",
    "print(\"1+1\")\n",
    "print(1+1)"
   ]
  },
  {
   "cell_type": "markdown",
   "id": "26d06723",
   "metadata": {},
   "source": [
    "## ,(콤마)를 이용해 여러개의 값 출력\n",
    "# 파이썬의 print()의 기본 옵션<br>(sep(구분자) , end(줄바꿈하지않음) , format , Escape)"
   ]
  },
  {
   "cell_type": "code",
   "execution_count": 16,
   "id": "41218242",
   "metadata": {},
   "outputs": [
    {
     "name": "stdout",
     "output_type": "stream",
     "text": [
      "1111!!!!안녕하세용!!!!345\n",
      "1111\n",
      "안녕하세용\n",
      "345\n",
      "11...\n",
      "11...안녕안녕나는\n"
     ]
    }
   ],
   "source": [
    "print(1111,\"안녕하세용\",345,sep=\"!!!!\")\n",
    "print(1111,\"안녕하세용\",345,sep=\"\\n\")\n",
    "# end 옵션\n",
    "print(11,end=\"...\")\n",
    "print()#아무것도 적지 않으면 개행\n",
    "print(11,end=\"...\")\n",
    "print('안녕안녕나는')"
   ]
  },
  {
   "cell_type": "markdown",
   "id": "ded7691c",
   "metadata": {},
   "source": [
    "## shift+tab 으로 상세설명 볼 수 있다.\n",
    "## 주석 ctrl+/ 한줄주석\n",
    "## ''' ''' 여러줄 주석"
   ]
  },
  {
   "cell_type": "code",
   "execution_count": null,
   "id": "2123d0c3",
   "metadata": {},
   "outputs": [],
   "source": [
    "'''\n",
    "파이썬의 여러줄 주석\n",
    "'''\n",
    "\"\"\"\n",
    "큰따옴표로도 가능하다.\n",
    "\"\"\""
   ]
  },
  {
   "cell_type": "markdown",
   "id": "c9671388",
   "metadata": {},
   "source": [
    "### 대입연산자 = "
   ]
  },
  {
   "cell_type": "code",
   "execution_count": 17,
   "id": "fa40c030",
   "metadata": {},
   "outputs": [
    {
     "name": "stdout",
     "output_type": "stream",
     "text": [
      "3\n"
     ]
    }
   ],
   "source": [
    "a=1+2\n",
    "print(a)"
   ]
  },
  {
   "cell_type": "markdown",
   "id": "5bf85dd0",
   "metadata": {},
   "source": [
    "#### 콤마로 여러 변수에 대입 가능"
   ]
  },
  {
   "cell_type": "code",
   "execution_count": 18,
   "id": "c20a8f1d",
   "metadata": {},
   "outputs": [
    {
     "name": "stdout",
     "output_type": "stream",
     "text": [
      "1\n",
      "2\n"
     ]
    }
   ],
   "source": [
    "a,b=1,2\n",
    "print(a)\n",
    "print(b)"
   ]
  },
  {
   "cell_type": "code",
   "execution_count": 19,
   "id": "bf9e4c47",
   "metadata": {},
   "outputs": [
    {
     "name": "stdout",
     "output_type": "stream",
     "text": [
      "200 200\n"
     ]
    }
   ],
   "source": [
    "a=b=200\n",
    "print(a,b)"
   ]
  },
  {
   "cell_type": "markdown",
   "id": "ca80aadd",
   "metadata": {},
   "source": [
    "### ;를 이용해 한줄로 변수들 선언"
   ]
  },
  {
   "cell_type": "code",
   "execution_count": 20,
   "id": "2c6d4980",
   "metadata": {},
   "outputs": [
    {
     "name": "stdout",
     "output_type": "stream",
     "text": [
      "1 10 100\n"
     ]
    }
   ],
   "source": [
    "a=1;b=10;c=100\n",
    "print(a,b,c)"
   ]
  },
  {
   "cell_type": "markdown",
   "id": "249a5089",
   "metadata": {},
   "source": [
    "### 두변수의 값을 , 를 이용해 서로 교환 할 수 있다."
   ]
  },
  {
   "cell_type": "code",
   "execution_count": 21,
   "id": "6686ef21",
   "metadata": {},
   "outputs": [
    {
     "name": "stdout",
     "output_type": "stream",
     "text": [
      "1 2\n",
      "2 1\n"
     ]
    }
   ],
   "source": [
    "a=1; b=2\n",
    "print(a,b)\n",
    "a,b=b,a\n",
    "print(a,b)"
   ]
  },
  {
   "cell_type": "markdown",
   "id": "ab9b442d",
   "metadata": {},
   "source": [
    "### 복합연산자"
   ]
  },
  {
   "cell_type": "code",
   "execution_count": 22,
   "id": "04e7674b",
   "metadata": {},
   "outputs": [
    {
     "name": "stdout",
     "output_type": "stream",
     "text": [
      "1\n",
      "11\n",
      "6\n"
     ]
    }
   ],
   "source": [
    "a=1\n",
    "print(a)\n",
    "a+=10\n",
    "print(a)\n",
    "a-=5\n",
    "print(a)"
   ]
  },
  {
   "cell_type": "markdown",
   "id": "e529172f",
   "metadata": {},
   "source": [
    "## 표현식이 아닌 할당문은 불가능하다."
   ]
  },
  {
   "cell_type": "code",
   "execution_count": 23,
   "id": "af18ec33",
   "metadata": {},
   "outputs": [
    {
     "ename": "SyntaxError",
     "evalue": "invalid syntax. Maybe you meant '==' or ':=' instead of '='? (1324766567.py, line 2)",
     "output_type": "error",
     "traceback": [
      "\u001b[1;36m  Cell \u001b[1;32mIn[23], line 2\u001b[1;36m\u001b[0m\n\u001b[1;33m    a=(b=b+c)\u001b[0m\n\u001b[1;37m       ^\u001b[0m\n\u001b[1;31mSyntaxError\u001b[0m\u001b[1;31m:\u001b[0m invalid syntax. Maybe you meant '==' or ':=' instead of '='?\n"
     ]
    }
   ],
   "source": [
    "b=2;c=3\n",
    "a=(b=b+c)\n",
    "print(a)"
   ]
  },
  {
   "cell_type": "markdown",
   "id": "5929875f",
   "metadata": {},
   "source": [
    "### 역슬래시를 이용해서 한줄을 여러줄로 표현하기"
   ]
  },
  {
   "cell_type": "code",
   "execution_count": 24,
   "id": "bbf0e43a",
   "metadata": {},
   "outputs": [
    {
     "data": {
      "text/plain": [
       "3"
      ]
     },
     "execution_count": 24,
     "metadata": {},
     "output_type": "execute_result"
    }
   ],
   "source": [
    "a=1\n",
    "b=2\n",
    "# a+\n",
    "# b\n",
    "a+\\\n",
    "b"
   ]
  },
  {
   "cell_type": "markdown",
   "id": "c2251b00",
   "metadata": {},
   "source": [
    "### 예약어는 사용불가하다.\n",
    "- 예약어 : 파이썬의 기본모듈에서 키워드로 등록된것을말함"
   ]
  },
  {
   "cell_type": "code",
   "execution_count": 26,
   "id": "9a6e299f",
   "metadata": {},
   "outputs": [
    {
     "ename": "SyntaxError",
     "evalue": "cannot assign to False (4099992671.py, line 1)",
     "output_type": "error",
     "traceback": [
      "\u001b[1;36m  Cell \u001b[1;32mIn[26], line 1\u001b[1;36m\u001b[0m\n\u001b[1;33m    False=1\u001b[0m\n\u001b[1;37m    ^\u001b[0m\n\u001b[1;31mSyntaxError\u001b[0m\u001b[1;31m:\u001b[0m cannot assign to False\n"
     ]
    }
   ],
   "source": [
    "False=1\n",
    "print(False)"
   ]
  },
  {
   "cell_type": "code",
   "execution_count": 25,
   "id": "68dee942",
   "metadata": {},
   "outputs": [
    {
     "name": "stdout",
     "output_type": "stream",
     "text": [
      "['False', 'None', 'True', 'and', 'as', 'assert', 'async', 'await', 'break', 'class', 'continue', 'def', 'del', 'elif', 'else', 'except', 'finally', 'for', 'from', 'global', 'if', 'import', 'in', 'is', 'lambda', 'nonlocal', 'not', 'or', 'pass', 'raise', 'return', 'try', 'while', 'with', 'yield']\n"
     ]
    }
   ],
   "source": [
    "import keyword\n",
    "print(keyword.kwlist)"
   ]
  },
  {
   "cell_type": "markdown",
   "id": "c0198613",
   "metadata": {},
   "source": [
    "### 내장함수\n",
    "- 파이썬에서 자주 사용하는 함수를 기본적으로 제공하는것을 말한다.\n",
    "- https://docs.python.org/ko/3/library/functions.html"
   ]
  },
  {
   "cell_type": "markdown",
   "id": "b2027eeb",
   "metadata": {},
   "source": [
    "#### Type()"
   ]
  },
  {
   "cell_type": "code",
   "execution_count": 27,
   "id": "6fb58512",
   "metadata": {},
   "outputs": [
    {
     "name": "stdout",
     "output_type": "stream",
     "text": [
      "<class 'int'>\n"
     ]
    }
   ],
   "source": [
    "a=123\n",
    "print(type(a))"
   ]
  },
  {
   "cell_type": "markdown",
   "id": "8f4369d9",
   "metadata": {},
   "source": [
    "#### len() 길이함수"
   ]
  },
  {
   "cell_type": "code",
   "execution_count": 28,
   "id": "eea4acd5",
   "metadata": {},
   "outputs": [
    {
     "name": "stdout",
     "output_type": "stream",
     "text": [
      "4\n",
      "5\n"
     ]
    }
   ],
   "source": [
    "a=\"1234\"\n",
    "print(len(a))\n",
    "b=[1,2,3,4,5]\n",
    "print(len(b))"
   ]
  },
  {
   "cell_type": "markdown",
   "id": "f53a916f",
   "metadata": {},
   "source": [
    "#### Max&Min 함수"
   ]
  },
  {
   "cell_type": "code",
   "execution_count": 29,
   "id": "877d23d0",
   "metadata": {},
   "outputs": [
    {
     "name": "stdout",
     "output_type": "stream",
     "text": [
      "g\n",
      "1\n"
     ]
    }
   ],
   "source": [
    "print(max('abcdefg'))\n",
    "print(min('123456'))"
   ]
  },
  {
   "cell_type": "code",
   "execution_count": 1,
   "id": "02d3a37a",
   "metadata": {},
   "outputs": [
    {
     "name": "stdout",
     "output_type": "stream",
     "text": [
      "안녕하세요\n",
      "여러분\n",
      "이번회차도\n",
      "수고하셨습니다.\n"
     ]
    }
   ],
   "source": [
    "# 미션 1\n",
    "# 안녕하세요 여러분 이번회차도 수고하셨습니다. 줄바꿈 sep 사용\n",
    "print(\"안녕하세요\", \"여러분\", \"이번회차도\", \"수고하셨습니다.\",sep=\"\\n\")"
   ]
  },
  {
   "cell_type": "code",
   "execution_count": 3,
   "id": "c8d499c2",
   "metadata": {},
   "outputs": [
    {
     "name": "stdout",
     "output_type": "stream",
     "text": [
      "num1 : 10\n",
      "num2 : 10\n",
      "두합은 :  20\n"
     ]
    }
   ],
   "source": [
    "# 미션 2\n",
    "# 두수를 입력받아 더하기 연산 결과 출력\n",
    "a=input(\"num1 : \")\n",
    "b=input(\"num2 : \")\n",
    "print(\"두합은 : \",int(a)+int(b))"
   ]
  }
 ],
 "metadata": {
  "kernelspec": {
   "display_name": "Python 3 (ipykernel)",
   "language": "python",
   "name": "python3"
  },
  "language_info": {
   "codemirror_mode": {
    "name": "ipython",
    "version": 3
   },
   "file_extension": ".py",
   "mimetype": "text/x-python",
   "name": "python",
   "nbconvert_exporter": "python",
   "pygments_lexer": "ipython3",
   "version": "3.11.3"
  }
 },
 "nbformat": 4,
 "nbformat_minor": 5
}

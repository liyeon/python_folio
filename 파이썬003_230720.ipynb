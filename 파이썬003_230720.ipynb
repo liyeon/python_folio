{
 "cells": [
  {
   "cell_type": "markdown",
   "id": "292b8087",
   "metadata": {},
   "source": [
    "## 문자열 자료형의 메소드 포멧팅"
   ]
  },
  {
   "cell_type": "code",
   "execution_count": null,
   "id": "a2651367",
   "metadata": {},
   "outputs": [],
   "source": [
    "a='안녕하세요'\n",
    "print(a[0])\n",
    "print(a[-1])\n",
    "print(a[1:3])\n",
    "print(a[::2])\n",
    "# 역순 정렬\n",
    "print(a[::-1])\n",
    "# 슬라이싱 연경\n",
    "a='12345'\n",
    "b='34567'\n",
    "c=a[0:3]+b[1:]\n",
    "print(c)\n",
    "# 스템 활용\n",
    "a='1,2,3,4,5,6,7,8,9'\n",
    "print(a[::2])\n",
    "print(a[::])"
   ]
  },
  {
   "cell_type": "code",
   "execution_count": null,
   "id": "8afe9f14",
   "metadata": {},
   "outputs": [],
   "source": [
    "# 문자열 자료형은 변경 불가능\n",
    "a='abcdefghi'\n",
    "# a[1]='3'#a에서 1위치값 변경\n",
    "print(a.upper())\n",
    "print(a.lower())"
   ]
  },
  {
   "cell_type": "markdown",
   "id": "0a71f332",
   "metadata": {},
   "source": [
    "### 문자열의 메소드 활용\n",
    "#### # swapcase()\n",
    "- 대문자 -> 소문자\n",
    "- 소문자 -> 대문자"
   ]
  },
  {
   "cell_type": "code",
   "execution_count": null,
   "id": "10ad1c27",
   "metadata": {},
   "outputs": [],
   "source": [
    "a='abCDefgHi'\n",
    "print(a.swapcase())"
   ]
  },
  {
   "cell_type": "markdown",
   "id": "5919d0fc",
   "metadata": {},
   "source": [
    "#### # 문자열의 첫문자만 대문자로 만드는 메소드 capitalize()"
   ]
  },
  {
   "cell_type": "code",
   "execution_count": null,
   "id": "8089912a",
   "metadata": {},
   "outputs": [],
   "source": [
    "a='abcd abcd'\n",
    "print(a.capitalize())"
   ]
  },
  {
   "cell_type": "markdown",
   "id": "d9b74aff",
   "metadata": {},
   "source": [
    "#### # 단어마다 첫글자를 대문자로 만드는 메소드"
   ]
  },
  {
   "cell_type": "code",
   "execution_count": null,
   "id": "49e0e60b",
   "metadata": {
    "scrolled": true
   },
   "outputs": [],
   "source": [
    "a='abcd abcd'\n",
    "print(a.title())"
   ]
  },
  {
   "cell_type": "markdown",
   "id": "9d5b3f0b",
   "metadata": {},
   "source": [
    "#### # 시작과 끝의 공백을 없애주는 메소드 strip()"
   ]
  },
  {
   "cell_type": "code",
   "execution_count": null,
   "id": "84818313",
   "metadata": {},
   "outputs": [],
   "source": [
    "a='     abcd abcd    '\n",
    "print(a.strip())"
   ]
  },
  {
   "cell_type": "markdown",
   "id": "3cfd57f1",
   "metadata": {},
   "source": [
    "#### # 왼쪽 공백 제거"
   ]
  },
  {
   "cell_type": "code",
   "execution_count": null,
   "id": "75e8e437",
   "metadata": {},
   "outputs": [],
   "source": [
    "a='     abcd abcd    '\n",
    "print(a.lstrip())"
   ]
  },
  {
   "cell_type": "markdown",
   "id": "97db4a7b",
   "metadata": {},
   "source": [
    "#### # 오른쪽 공백 제거"
   ]
  },
  {
   "cell_type": "code",
   "execution_count": null,
   "id": "279a68f5",
   "metadata": {
    "scrolled": true
   },
   "outputs": [],
   "source": [
    "a='     abcd abcd    '\n",
    "print(a.rstrip())"
   ]
  },
  {
   "cell_type": "markdown",
   "id": "a61ef06e",
   "metadata": {},
   "source": [
    "#### # split('c')"
   ]
  },
  {
   "cell_type": "code",
   "execution_count": null,
   "id": "a6ce6b2a",
   "metadata": {},
   "outputs": [],
   "source": [
    "a='abcde'\n",
    "print(a.split('c'))\n",
    "# c를 기준으로 분리하여 리스트로 반환"
   ]
  },
  {
   "cell_type": "code",
   "execution_count": null,
   "id": "96a4dc1f",
   "metadata": {},
   "outputs": [],
   "source": [
    "a=\"\"\"이곳은\n",
    "여러줄을\n",
    "표현할수있습니다.\n",
    "\"\"\"\n",
    "print(a.splitlines()) # 줄단위로 분리해서 리스트로 반환"
   ]
  },
  {
   "cell_type": "code",
   "execution_count": null,
   "id": "cf3630c7",
   "metadata": {},
   "outputs": [],
   "source": [
    "a='abcdef'\n",
    "print(a.index('e'))\n",
    "# 인덱스 번호 리턴 | 없는글자는 오류남"
   ]
  },
  {
   "cell_type": "code",
   "execution_count": null,
   "id": "e2ff9359",
   "metadata": {
    "scrolled": true
   },
   "outputs": [],
   "source": [
    "a='abcdef'\n",
    "print(a.find('e')) # 인덱스 번호 리턴\n",
    "print(a.find('g')) # 인덱스 번호 없으면 -1 리턴"
   ]
  },
  {
   "cell_type": "markdown",
   "id": "dfad80d4",
   "metadata": {},
   "source": [
    "#### # 문자열 메소드 확인"
   ]
  },
  {
   "cell_type": "code",
   "execution_count": null,
   "id": "b4d7d527",
   "metadata": {
    "scrolled": true
   },
   "outputs": [],
   "source": [
    "print(dir(str))"
   ]
  },
  {
   "cell_type": "code",
   "execution_count": null,
   "id": "a505eff7",
   "metadata": {},
   "outputs": [],
   "source": [
    "# 문자열 포멧팅\n",
    "# c언어의 printf 와 유사 \n",
    "a=\"{}. World\".format(\"Hello\")\n",
    "print(a)"
   ]
  },
  {
   "cell_type": "code",
   "execution_count": null,
   "id": "19c43377",
   "metadata": {
    "scrolled": true
   },
   "outputs": [],
   "source": [
    "a=\"{}{}{}\".format(\"Hello\",\"my\",\"name\")\n",
    "print(a)"
   ]
  },
  {
   "cell_type": "code",
   "execution_count": null,
   "id": "9ed499f6",
   "metadata": {},
   "outputs": [],
   "source": [
    "# 중괄호에 다른 자료형 대입\n",
    "a=\"{},{},{},{}\".format(\"2\",2,(1.,2),[1,2])\n",
    "print(a)"
   ]
  },
  {
   "cell_type": "code",
   "execution_count": null,
   "id": "b4f8765c",
   "metadata": {},
   "outputs": [],
   "source": [
    "# 포멧팅 출력 순서 변경\n",
    "a=\"{1}{2}{0}\".format(\"Hello\",\",\",\"World!\")\n",
    "print(a)"
   ]
  },
  {
   "cell_type": "code",
   "execution_count": null,
   "id": "59b0f117",
   "metadata": {},
   "outputs": [],
   "source": [
    "# 식별자로 출력하는 방법\n",
    "a=\"Today is {today}, Tomorrow is {tomorrow}\".format(today=\"Monday\",tomorrow=\"Tuesday\")\n",
    "print(a)"
   ]
  },
  {
   "cell_type": "code",
   "execution_count": null,
   "id": "01e7a21f",
   "metadata": {},
   "outputs": [],
   "source": [
    "# 자리표기 포멧팅\n",
    "a=\"{}\".format(1/3)\n",
    "b=\"{:0.2}\".format(1/3) # 소수점 둘째자리 까지\n",
    "c=\"{:f}\".format(3) # float\n",
    "d=\"{:3},{:10}\".format(4,10) # 자리수\n",
    "\n",
    "print(a)\n",
    "print(b)\n",
    "print(c)\n",
    "print(d)"
   ]
  },
  {
   "cell_type": "markdown",
   "id": "10885806",
   "metadata": {},
   "source": [
    "# 미션 1\n",
    "- 5*8=40 을 포맷으로 표현\n",
    "- 3-2=1을 포맷으로 표현"
   ]
  },
  {
   "cell_type": "code",
   "execution_count": null,
   "id": "05f06f33",
   "metadata": {
    "scrolled": true
   },
   "outputs": [],
   "source": [
    "a=\"{num1}*{num2}={snum}\".format(num1=5,num2=8,snum=(5*8))\n",
    "print(a)\n",
    "a=\"{num1}-{num2}={snum}\".format(num1=3,num2=2,snum=(3-2))\n",
    "print(a)"
   ]
  },
  {
   "cell_type": "code",
   "execution_count": null,
   "id": "eaf2c780",
   "metadata": {},
   "outputs": [],
   "source": [
    "# 3-2=1 포맷팅"
   ]
  },
  {
   "cell_type": "code",
   "execution_count": null,
   "id": "96b2a6d1",
   "metadata": {},
   "outputs": [],
   "source": [
    "s=\"\"\"Today is December 31, 2002.\n",
    "Tomorrow is January 1, 2023.\n",
    "\"\"\" # 줄단위로 나눠 리스트에 보관\n",
    "l=[]\n",
    "l=s.splitlines()\n",
    "print(l)"
   ]
  },
  {
   "cell_type": "markdown",
   "id": "bbb9e918",
   "metadata": {},
   "source": [
    "### 조건문"
   ]
  },
  {
   "cell_type": "code",
   "execution_count": null,
   "id": "954cf16e",
   "metadata": {},
   "outputs": [],
   "source": [
    "a= True\n",
    "print(type(a))\n",
    "b=False\n",
    "print(type(b))"
   ]
  },
  {
   "cell_type": "code",
   "execution_count": null,
   "id": "2cfb2d5f",
   "metadata": {},
   "outputs": [],
   "source": [
    "# bool 함수 사용\n",
    "print(bool(\"ab\"))\n",
    "print(bool(\"\"))"
   ]
  },
  {
   "cell_type": "code",
   "execution_count": null,
   "id": "27ef0eb4",
   "metadata": {},
   "outputs": [],
   "source": [
    "print(bool({'a':1,'b':2}))\n",
    "print(bool({}))\n",
    "print(bool([1,2]))\n",
    "print(bool([]))\n",
    "print(bool((1,2)))\n",
    "print(bool(()))"
   ]
  },
  {
   "cell_type": "code",
   "execution_count": null,
   "id": "139ed81d",
   "metadata": {
    "scrolled": true
   },
   "outputs": [],
   "source": [
    "print(bool(1))\n",
    "print(bool(-11))\n",
    "print(bool(100))\n",
    "print(bool(0)) # 0 이 아닌 모든 숫자는 True\n"
   ]
  },
  {
   "cell_type": "code",
   "execution_count": null,
   "id": "f77f0297",
   "metadata": {},
   "outputs": [],
   "source": [
    "# 비교 연산\n",
    "print(1==1)\n",
    "print(1==2)\n",
    "print(1>=3)\n",
    "print(1!=2)# 1은 2와 동일하지 않으면 true"
   ]
  },
  {
   "cell_type": "code",
   "execution_count": null,
   "id": "b967ac6c",
   "metadata": {},
   "outputs": [],
   "source": [
    "a=1\n",
    "b=2\n",
    "print(a>0 and b>1) # and는 모두 만족 됐을 때 전체 yes"
   ]
  },
  {
   "cell_type": "code",
   "execution_count": null,
   "id": "f81ca2c3",
   "metadata": {},
   "outputs": [],
   "source": [
    "a=1\n",
    "b=2\n",
    "print(a>0 or b>1) # or는 둘중 하나만 만족되도 true"
   ]
  },
  {
   "cell_type": "code",
   "execution_count": null,
   "id": "19daf44e",
   "metadata": {},
   "outputs": [],
   "source": [
    "print(\"a\" and \"b\") # 둘 다 true 일때만 true 이므로 오른쪽이 출력 됨\n",
    "print(\"a\" or \"b\") # 둘 중 하나만 true 이니까 왼쪽이 출력"
   ]
  },
  {
   "cell_type": "code",
   "execution_count": null,
   "id": "87215d88",
   "metadata": {},
   "outputs": [],
   "source": [
    "if(True):\n",
    "    print(1)\n",
    "print(2)\n",
    "\n",
    "if(False):\n",
    "    print(1)\n",
    "print(2)"
   ]
  },
  {
   "cell_type": "code",
   "execution_count": null,
   "id": "e4bcc151",
   "metadata": {},
   "outputs": [],
   "source": [
    "# 조건이 1개일때\n",
    "a=2\n",
    "if(a==1):\n",
    "    print(1)\n",
    "else:\n",
    "    print(2)"
   ]
  },
  {
   "cell_type": "code",
   "execution_count": null,
   "id": "d209c159",
   "metadata": {},
   "outputs": [],
   "source": [
    "# 조건이 여러개일때\n",
    "a=2\n",
    "if(a==2):\n",
    "    print(1)\n",
    "elif(a==2):\n",
    "    print(2)\n",
    "else:\n",
    "    print(5)"
   ]
  },
  {
   "cell_type": "code",
   "execution_count": null,
   "id": "7bbc7957",
   "metadata": {},
   "outputs": [],
   "source": [
    "# 중첩 조건문\n",
    "a=1\n",
    "b=2\n",
    "if(a==1):\n",
    "    if(b==3):\n",
    "        print(1)\n",
    "    else:\n",
    "        print(2)\n",
    "else:\n",
    "    print(3)"
   ]
  },
  {
   "cell_type": "code",
   "execution_count": null,
   "id": "42f95007",
   "metadata": {},
   "outputs": [],
   "source": [
    "# 중첩 조건문\n",
    "a=1\n",
    "b=3\n",
    "if(a==1):\n",
    "    if(b==3):\n",
    "        if(a<b):\n",
    "            print(0)\n",
    "        print(1)\n",
    "    else:\n",
    "        print(2)\n",
    "else:\n",
    "    print(3)"
   ]
  },
  {
   "cell_type": "code",
   "execution_count": null,
   "id": "d585247f",
   "metadata": {},
   "outputs": [],
   "source": [
    "# 여러줄을 한줄로 표현하기\n",
    "a=1\n",
    "if(a==1):\n",
    "    msg='a is 1'\n",
    "else:\n",
    "    msg='a is not 1'\n",
    "print(msg)"
   ]
  },
  {
   "cell_type": "code",
   "execution_count": null,
   "id": "6d43e43e",
   "metadata": {},
   "outputs": [],
   "source": [
    "msg2='a is 1' if (a==0) else 'a is not 1'\n",
    "print(msg2)"
   ]
  },
  {
   "cell_type": "markdown",
   "id": "734900bb",
   "metadata": {},
   "source": [
    "## 미션 1\n",
    "- height 입력받고\n",
    "- weight 입력받고\n",
    "- height 180 이상이면 남자 출력\n",
    "- 180~160 이상이면 몸무게를 조건으로\n",
    "- height -110 을 빼서 weight 보다 크면 남자 아니면 여자 그외에는 여자\n",
    "## 미션 2\n",
    "- 숫자를 입력받아\n",
    "- 음수 양수 0 구분"
   ]
  },
  {
   "cell_type": "code",
   "execution_count": null,
   "id": "dc7b5a99",
   "metadata": {},
   "outputs": [],
   "source": [
    "height = input(\"키를 입력해주세요 : \")\n",
    "weight = input(\"몸무게를 입력해주세요 : \")\n",
    "height=int(height)\n",
    "weight=int(weight)\n",
    "if(height>=180):\n",
    "    print(\"남자\")\n",
    "    m=height-110\n",
    "elif(height>=160 and height<180):\n",
    "    if(weight>m):\n",
    "        print(\"남자\")\n",
    "    else :\n",
    "        print(\"여자\")\n",
    "else:\n",
    "    print(\"여자\")"
   ]
  },
  {
   "cell_type": "code",
   "execution_count": null,
   "id": "64b23e73",
   "metadata": {},
   "outputs": [],
   "source": [
    "num = input(\"숫자를 입력해주세요 : \")\n",
    "num = int(num)\n",
    "if num<0:\n",
    "    print(\"음수\")\n",
    "elif num>0:\n",
    "    print(\"양수\")\n",
    "else:\n",
    "    print(\"0\")"
   ]
  },
  {
   "cell_type": "markdown",
   "id": "5489af4c",
   "metadata": {},
   "source": [
    "## 반복문\n",
    "- 리스트 튜플 등 집합 자료형을 사용해서 요소를 하나씩 가져와 반복\n",
    "- iterable 의 의미는 객체의 멤버를 하나씩 반복해서 반환한다. 반복자라고도 말한다."
   ]
  },
  {
   "cell_type": "code",
   "execution_count": null,
   "id": "c7049b44",
   "metadata": {},
   "outputs": [],
   "source": [
    "for i in [1,2,3]:\n",
    "    print(i)"
   ]
  },
  {
   "cell_type": "code",
   "execution_count": null,
   "id": "8209ef3a",
   "metadata": {},
   "outputs": [],
   "source": [
    "for i in \"Hello\":\n",
    "    print(i)"
   ]
  },
  {
   "cell_type": "code",
   "execution_count": 60,
   "id": "ffab5071",
   "metadata": {},
   "outputs": [
    {
     "name": "stdout",
     "output_type": "stream",
     "text": [
      "True\n",
      "True\n"
     ]
    }
   ],
   "source": [
    "# 반복자\n",
    "import collections\n",
    "obj=[1,2,3,4,5]\n",
    "print(isinstance(obj,collections.abc.Iterable))\n",
    "import collections\n",
    "obj=\"Hello\"\n",
    "print(isinstance(obj,collections.abc.Iterable))"
   ]
  },
  {
   "cell_type": "markdown",
   "id": "74839722",
   "metadata": {},
   "source": [
    "### range() 함수 사용\n",
    "### 반복 가능한 객체를 반환\n",
    "- range(시작(이상):끝(미만):스텝 )\n",
    "- 반복문에 많이 사용한다."
   ]
  },
  {
   "cell_type": "code",
   "execution_count": null,
   "id": "3132090a",
   "metadata": {},
   "outputs": [],
   "source": [
    "print(range(5))"
   ]
  },
  {
   "cell_type": "code",
   "execution_count": null,
   "id": "eabdbc7e",
   "metadata": {},
   "outputs": [],
   "source": [
    "l=list(range(10))\n",
    "print(l)"
   ]
  },
  {
   "cell_type": "code",
   "execution_count": 62,
   "id": "5025915c",
   "metadata": {},
   "outputs": [
    {
     "name": "stdout",
     "output_type": "stream",
     "text": [
      "True\n"
     ]
    }
   ],
   "source": [
    "obj=range(10)\n",
    "print(isinstance(obj,collections.abc.Iterable))"
   ]
  },
  {
   "cell_type": "code",
   "execution_count": null,
   "id": "eb65ece9",
   "metadata": {
    "scrolled": true
   },
   "outputs": [],
   "source": [
    "l=['a',9,[1,2,3],('a','b')]\n",
    "for i in l:\n",
    "    print(i)"
   ]
  },
  {
   "cell_type": "code",
   "execution_count": null,
   "id": "bd09c365",
   "metadata": {},
   "outputs": [],
   "source": [
    "l=['a',9,[1,2,3],('a','b')]\n",
    "for i in range(len(l)):\n",
    "    print(l[i])"
   ]
  },
  {
   "cell_type": "code",
   "execution_count": null,
   "id": "b0382e41",
   "metadata": {},
   "outputs": [],
   "source": [
    "for i in [1,2,3]:\n",
    "    for j in (10,20):\n",
    "        print('-',j)\n",
    "    print(i)"
   ]
  },
  {
   "cell_type": "code",
   "execution_count": null,
   "id": "d4b7dc43",
   "metadata": {},
   "outputs": [],
   "source": [
    "# 요소값을 아이템 변수로 할당\n",
    "l= [[1,2],[3,4],[5,6]]\n",
    "for i in l:\n",
    "    print(i)"
   ]
  },
  {
   "cell_type": "code",
   "execution_count": null,
   "id": "12b66c1d",
   "metadata": {},
   "outputs": [],
   "source": [
    "# 요소값을 아이템 변수로 할당\n",
    "l= [[1,2],[3,4],[5,6]]\n",
    "for i,j in l:\n",
    "    print(i+j)"
   ]
  },
  {
   "cell_type": "code",
   "execution_count": null,
   "id": "57ca64b8",
   "metadata": {},
   "outputs": [],
   "source": [
    "# continue\n",
    "s=\"Hello\"\n",
    "cnt=0\n",
    "for i in s:\n",
    "    if(i=='e'):\n",
    "        print('i is e')\n",
    "        continue\n",
    "    cnt+=1\n",
    "print(cnt)"
   ]
  },
  {
   "cell_type": "markdown",
   "id": "917fe729",
   "metadata": {},
   "source": [
    "## while"
   ]
  },
  {
   "cell_type": "code",
   "execution_count": null,
   "id": "c22e116b",
   "metadata": {},
   "outputs": [],
   "source": [
    "num=10\n",
    "while(num>0):\n",
    "    if(num==6):\n",
    "        print(\"===end===\")\n",
    "        break\n",
    "    print(num)\n",
    "    num-=1"
   ]
  },
  {
   "cell_type": "code",
   "execution_count": 2,
   "id": "f44070f6",
   "metadata": {},
   "outputs": [
    {
     "name": "stdout",
     "output_type": "stream",
     "text": [
      "10,9,8,7,6,5,4,3,2,1,"
     ]
    }
   ],
   "source": [
    "num=10\n",
    "while(num>0):\n",
    "    print(num,end=\",\")\n",
    "    num-=1\n",
    "    if(num==6):\n",
    "        continue"
   ]
  },
  {
   "cell_type": "code",
   "execution_count": 4,
   "id": "074d3381",
   "metadata": {},
   "outputs": [
    {
     "name": "stdout",
     "output_type": "stream",
     "text": [
      "9,8,7,5,4,3,2,1,0,"
     ]
    }
   ],
   "source": [
    "num=10\n",
    "while(num>0):\n",
    "    num-=1\n",
    "    if(num==6):\n",
    "        continue\n",
    "    print(num,end=\",\")"
   ]
  },
  {
   "cell_type": "code",
   "execution_count": 6,
   "id": "bb8d091c",
   "metadata": {},
   "outputs": [
    {
     "name": "stdout",
     "output_type": "stream",
     "text": [
      "[0, 1, 2, 3, 4]\n"
     ]
    }
   ],
   "source": [
    "# 리스트 내포의 정의\n",
    "l=[]\n",
    "for i in range(5):\n",
    "    l.append(i)\n",
    "print(l)"
   ]
  },
  {
   "cell_type": "code",
   "execution_count": 9,
   "id": "a5d415f4",
   "metadata": {},
   "outputs": [
    {
     "name": "stdout",
     "output_type": "stream",
     "text": [
      "[0, 1, 2, 3, 4]\n"
     ]
    }
   ],
   "source": [
    "# 리스트 내포의 정의\n",
    "for i in range(5):\n",
    "    l.append(i)\n",
    "print([i for i in range(5)])"
   ]
  },
  {
   "cell_type": "code",
   "execution_count": 11,
   "id": "8a8c51e0",
   "metadata": {},
   "outputs": [
    {
     "name": "stdout",
     "output_type": "stream",
     "text": [
      "[0, 2, 4]\n"
     ]
    }
   ],
   "source": [
    "l=[]\n",
    "for i in range(5):\n",
    "    if(i%2==0):\n",
    "        l.append(i)\n",
    "print(l)"
   ]
  },
  {
   "cell_type": "code",
   "execution_count": 13,
   "id": "3ce52470",
   "metadata": {},
   "outputs": [
    {
     "name": "stdout",
     "output_type": "stream",
     "text": [
      "[0, 2, 4]\n"
     ]
    }
   ],
   "source": [
    "# 리스트 내포의 정의\n",
    "print([i for i in range(5) if i%2==0])"
   ]
  },
  {
   "cell_type": "code",
   "execution_count": 15,
   "id": "7ca3e626",
   "metadata": {},
   "outputs": [
    {
     "name": "stdout",
     "output_type": "stream",
     "text": [
      "[0, 1, 2, 1, 2, 3, 2, 3, 4]\n"
     ]
    }
   ],
   "source": [
    "l=[]\n",
    "for i in range(3):\n",
    "    for j in range(3):\n",
    "        l.append(i+j)\n",
    "print(l)"
   ]
  },
  {
   "cell_type": "code",
   "execution_count": 17,
   "id": "3fcb38b3",
   "metadata": {},
   "outputs": [
    {
     "name": "stdout",
     "output_type": "stream",
     "text": [
      "[0, 1, 2, 1, 2, 3, 2, 3, 4]\n"
     ]
    }
   ],
   "source": [
    "# 리스트 내포의 정의\n",
    "print([i+j for i in range(3) for j in range(3)])"
   ]
  },
  {
   "cell_type": "code",
   "execution_count": 39,
   "id": "b9fd67e5",
   "metadata": {},
   "outputs": [
    {
     "name": "stdout",
     "output_type": "stream",
     "text": [
      "dan : 5\n",
      "5 * 1 = 5\n",
      "5 * 2 = 10\n",
      "5 * 3 = 15\n",
      "5 * 4 = 20\n",
      "5 * 5 = 25\n",
      "5 * 6 = 30\n",
      "5 * 7 = 35\n",
      "5 * 8 = 40\n"
     ]
    }
   ],
   "source": [
    "# 미션1\n",
    "#구구단 단수 입력\n",
    "dan = int(input(\"dan : \"))\n",
    "for i in range(1, 9):\n",
    "    print('{0} * {1} = {2}'.format(dan, i, dan*i) )"
   ]
  },
  {
   "cell_type": "code",
   "execution_count": 33,
   "id": "ce17ab5d",
   "metadata": {},
   "outputs": [
    {
     "name": "stdout",
     "output_type": "stream",
     "text": [
      "[2, 4, 6, 8, 10, 12, 14, 16, 18, 3, 6, 9, 12, 15, 18, 21, 24, 27, 5, 10, 15, 20, 25, 30, 35, 40, 45, 6, 12, 18, 24, 30, 36, 42, 48, 54, 7, 14, 21, 28, 35, 42, 49, 56, 63, 8, 16, 24, 32, 40, 48, 56, 64, 72, 9, 18, 27, 36, 45, 54, 63, 72, 81]\n"
     ]
    }
   ],
   "source": [
    "# 미션 2 리스트 내포로 출력\n",
    "l=[]\n",
    "for i in range(2,10):\n",
    "    for j in range(1,10):\n",
    "        if(i!=4):\n",
    "            l.append(i*j)\n",
    "print(l)"
   ]
  },
  {
   "cell_type": "code",
   "execution_count": 45,
   "id": "585862be",
   "metadata": {},
   "outputs": [
    {
     "name": "stdout",
     "output_type": "stream",
     "text": [
      "[2, 4, 6, 8, 10, 12, 14, 16, 18, 3, 6, 9, 12, 15, 18, 21, 24, 27, 5, 10, 15, 20, 25, 30, 35, 40, 45, 6, 12, 18, 24, 30, 36, 42, 48, 54, 7, 14, 21, 28, 35, 42, 49, 56, 63, 8, 16, 24, 32, 40, 48, 56, 64, 72, 9, 18, 27, 36, 45, 54, 63, 72, 81]\n"
     ]
    }
   ],
   "source": [
    "print([i*j for i in range(2,10) for j in range(1,10) if(i!=4)])"
   ]
  },
  {
   "cell_type": "markdown",
   "id": "fb83b6a5",
   "metadata": {},
   "source": [
    "### 파일 입출력\n",
    "##### 모드\n",
    "- r : 읽기\n",
    "- w : 쓰기\n",
    "- x : 쓰기 전용\n",
    "- a : 추가\n",
    "- '+ : 갱신"
   ]
  },
  {
   "cell_type": "code",
   "execution_count": 56,
   "id": "d877428b",
   "metadata": {},
   "outputs": [],
   "source": [
    "f= open('a.txt','a')\n",
    "f.write('456789')\n",
    "f.close()"
   ]
  },
  {
   "cell_type": "code",
   "execution_count": 58,
   "id": "8c0d121e",
   "metadata": {},
   "outputs": [
    {
     "name": "stdout",
     "output_type": "stream",
     "text": [
      "C:\\Users\\goott4\n"
     ]
    }
   ],
   "source": [
    "import os\n",
    "print(os.getcwd()) # 현재 작업 디렉토리 경로"
   ]
  },
  {
   "cell_type": "code",
   "execution_count": 59,
   "id": "5b7e113f",
   "metadata": {},
   "outputs": [],
   "source": [
    "f=open(\"C:\\\\javabigsetjsp2023\\\\py1.txt\",\"w\")\n",
    "f.write('456789')\n",
    "f.close()"
   ]
  }
 ],
 "metadata": {
  "kernelspec": {
   "display_name": "Python 3 (ipykernel)",
   "language": "python",
   "name": "python3"
  },
  "language_info": {
   "codemirror_mode": {
    "name": "ipython",
    "version": 3
   },
   "file_extension": ".py",
   "mimetype": "text/x-python",
   "name": "python",
   "nbconvert_exporter": "python",
   "pygments_lexer": "ipython3",
   "version": "3.11.3"
  }
 },
 "nbformat": 4,
 "nbformat_minor": 5
}

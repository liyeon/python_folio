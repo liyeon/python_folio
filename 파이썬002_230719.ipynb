{
 "cells": [
  {
   "cell_type": "markdown",
   "id": "881b8851",
   "metadata": {},
   "source": [
    "# 숫자형 자료형과 문자형자료형\n",
    "## - 숫자형 : int, float, complex\n",
    "## - boolean : True, False\n",
    "## - 군집 자료형 : 문자열(str), 리스트(list), 튜플(tuple), 사전(dict), 집합(set)"
   ]
  },
  {
   "cell_type": "markdown",
   "id": "ed7826da",
   "metadata": {},
   "source": [
    "### 정수형 : 소수점이 없는 숫자\n",
    "- 정수형의 기본은 십진수이다."
   ]
  },
  {
   "cell_type": "code",
   "execution_count": 2,
   "id": "180bcb79",
   "metadata": {},
   "outputs": [
    {
     "name": "stdout",
     "output_type": "stream",
     "text": [
      "<class 'int'>\n",
      "0\n"
     ]
    }
   ],
   "source": [
    "a=0\n",
    "print(type(a))\n",
    "print(a)"
   ]
  },
  {
   "cell_type": "code",
   "execution_count": 4,
   "id": "0003098d",
   "metadata": {},
   "outputs": [
    {
     "name": "stdout",
     "output_type": "stream",
     "text": [
      "<class 'int'>\n",
      "-11\n"
     ]
    }
   ],
   "source": [
    "b=-11\n",
    "print(type(b))\n",
    "print(b)"
   ]
  },
  {
   "cell_type": "markdown",
   "id": "e5f7e13a",
   "metadata": {},
   "source": [
    "#### #정수형의 기본은 십진수"
   ]
  },
  {
   "cell_type": "code",
   "execution_count": 6,
   "id": "0a74ad47",
   "metadata": {},
   "outputs": [
    {
     "name": "stdout",
     "output_type": "stream",
     "text": [
      "<class 'int'>\n",
      "12345\n"
     ]
    }
   ],
   "source": [
    "a=12345\n",
    "print(type(a))\n",
    "print(a)"
   ]
  },
  {
   "cell_type": "markdown",
   "id": "de61ac09",
   "metadata": {},
   "source": [
    "#### # 2진수"
   ]
  },
  {
   "cell_type": "code",
   "execution_count": 8,
   "id": "b6b4d64d",
   "metadata": {},
   "outputs": [
    {
     "name": "stdout",
     "output_type": "stream",
     "text": [
      "<class 'int'>\n",
      "3\n"
     ]
    }
   ],
   "source": [
    "# 2진수\n",
    "b=0b11\n",
    "print(type(b))\n",
    "print(b)"
   ]
  },
  {
   "cell_type": "markdown",
   "id": "63e7e51d",
   "metadata": {},
   "source": [
    "#### #8진수"
   ]
  },
  {
   "cell_type": "code",
   "execution_count": 10,
   "id": "e19c428d",
   "metadata": {},
   "outputs": [
    {
     "name": "stdout",
     "output_type": "stream",
     "text": [
      "<class 'int'>\n",
      "10\n"
     ]
    }
   ],
   "source": [
    "c=0o12\n",
    "print(type(c))\n",
    "print(c)"
   ]
  },
  {
   "cell_type": "markdown",
   "id": "15d1eef1",
   "metadata": {},
   "source": [
    "#### #16진수"
   ]
  },
  {
   "cell_type": "code",
   "execution_count": 12,
   "id": "11edf6ba",
   "metadata": {},
   "outputs": [
    {
     "name": "stdout",
     "output_type": "stream",
     "text": [
      "<class 'int'>\n",
      "35\n"
     ]
    }
   ],
   "source": [
    "d=0x23\n",
    "print(type(d))\n",
    "print(d)"
   ]
  },
  {
   "cell_type": "markdown",
   "id": "2c9f0bc5",
   "metadata": {},
   "source": [
    "#### # 내장함수 ( int ) 자료형 변경"
   ]
  },
  {
   "cell_type": "code",
   "execution_count": 15,
   "id": "56ed9e81",
   "metadata": {},
   "outputs": [
    {
     "name": "stdout",
     "output_type": "stream",
     "text": [
      "<class 'str'>\n",
      "123\n",
      "<class 'int'>\n",
      "123\n"
     ]
    }
   ],
   "source": [
    "a=\"123\"\n",
    "print(type(a))\n",
    "print(a)\n",
    "b=int(a)\n",
    "print(type(b))\n",
    "print(b)"
   ]
  },
  {
   "cell_type": "markdown",
   "id": "2242572a",
   "metadata": {},
   "source": [
    "#### #int 자료형은 범위의 제한이 없다."
   ]
  },
  {
   "cell_type": "code",
   "execution_count": 17,
   "id": "10a14631",
   "metadata": {},
   "outputs": [
    {
     "name": "stdout",
     "output_type": "stream",
     "text": [
      "<class 'int'>\n",
      "12333123123121321321321321321321321321321321\n"
     ]
    }
   ],
   "source": [
    "a=12333123123121321321321321321321321321321321\n",
    "print(type(a))\n",
    "print(a)"
   ]
  },
  {
   "cell_type": "markdown",
   "id": "bc95f659",
   "metadata": {},
   "source": [
    "#### # 실수형 float"
   ]
  },
  {
   "cell_type": "code",
   "execution_count": 20,
   "id": "5039a99d",
   "metadata": {},
   "outputs": [
    {
     "name": "stdout",
     "output_type": "stream",
     "text": [
      "<class 'float'>\n",
      "0.12\n"
     ]
    }
   ],
   "source": [
    "a=0.12\n",
    "# a=float(\"0.12\")\n",
    "print(type(a))\n",
    "print(a)"
   ]
  },
  {
   "cell_type": "markdown",
   "id": "724a1780",
   "metadata": {},
   "source": [
    "#### # float 형 지수 표현"
   ]
  },
  {
   "cell_type": "code",
   "execution_count": 25,
   "id": "e7cf793b",
   "metadata": {},
   "outputs": [
    {
     "name": "stdout",
     "output_type": "stream",
     "text": [
      "<class 'float'>\n",
      "0.0002\n",
      "<class 'float'>\n",
      "20000.0\n"
     ]
    }
   ],
   "source": [
    "b=2e-4 # 2*10의 -4승\n",
    "print(type(b))\n",
    "print(b)\n",
    "c=2e4 # 2*10의 4승\n",
    "print(type(c))\n",
    "print(c)"
   ]
  },
  {
   "cell_type": "markdown",
   "id": "d359640f",
   "metadata": {},
   "source": [
    "#### # 문자열"
   ]
  },
  {
   "cell_type": "code",
   "execution_count": 27,
   "id": "92b27698",
   "metadata": {},
   "outputs": [
    {
     "name": "stdout",
     "output_type": "stream",
     "text": [
      "<class 'str'>\n",
      "Hello World@!!\n"
     ]
    }
   ],
   "source": [
    "a='Hello World@!!'\n",
    "print(type(a))\n",
    "print(a)"
   ]
  },
  {
   "cell_type": "markdown",
   "id": "2b717f87",
   "metadata": {},
   "source": [
    "#### # 숫자를 문자로"
   ]
  },
  {
   "cell_type": "code",
   "execution_count": 29,
   "id": "268940f5",
   "metadata": {},
   "outputs": [
    {
     "name": "stdout",
     "output_type": "stream",
     "text": [
      "<class 'str'>\n",
      "12345\n"
     ]
    }
   ],
   "source": [
    "c=12345\n",
    "c=str(c)\n",
    "print(type(c))\n",
    "print(c)"
   ]
  },
  {
   "cell_type": "markdown",
   "id": "3bb41ac4",
   "metadata": {},
   "source": [
    "#### # 이스케이프 문자"
   ]
  },
  {
   "cell_type": "code",
   "execution_count": 34,
   "id": "c09883aa",
   "metadata": {
    "scrolled": true
   },
   "outputs": [
    {
     "name": "stdout",
     "output_type": "stream",
     "text": [
      "안녕하세요\n",
      "'안녕하세요'\n",
      "안녕하세요 \n",
      " 이름은 홍길동 입니다. \n",
      " 반갑습니다.\n"
     ]
    }
   ],
   "source": [
    "a='안녕하세요'\n",
    "print(a)\n",
    "d=\"\\'안녕하세요\\'\"\n",
    "print(d)\n",
    "e=\"안녕하세요 \\n 이름은 홍길동 입니다. \\n 반갑습니다.\"\n",
    "print(e)"
   ]
  },
  {
   "cell_type": "markdown",
   "id": "f333f776",
   "metadata": {},
   "source": [
    "#### # \"\"\"\"\"\"의 다른 사용법"
   ]
  },
  {
   "cell_type": "code",
   "execution_count": 36,
   "id": "5d2c80a7",
   "metadata": {
    "scrolled": true
   },
   "outputs": [
    {
     "name": "stdout",
     "output_type": "stream",
     "text": [
      "\n",
      "안녕하세요 \n",
      "이름은 홍길동 입니다. \n",
      "반갑습니다.\n",
      "\n"
     ]
    }
   ],
   "source": [
    "a=\"\"\"\n",
    "안녕하세요 \n",
    "이름은 홍길동 입니다. \n",
    "반갑습니다.\n",
    "\"\"\"\n",
    "print(a)"
   ]
  },
  {
   "cell_type": "markdown",
   "id": "43fdde41",
   "metadata": {},
   "source": [
    "#### # 사칙 연산"
   ]
  },
  {
   "cell_type": "code",
   "execution_count": 38,
   "id": "e22f9802",
   "metadata": {},
   "outputs": [
    {
     "name": "stdout",
     "output_type": "stream",
     "text": [
      "10\n",
      "0\n",
      "25\n",
      "1.0\n"
     ]
    }
   ],
   "source": [
    "print(5+5)\n",
    "print(5-5)\n",
    "print(5*5)\n",
    "print(5/5)"
   ]
  },
  {
   "cell_type": "markdown",
   "id": "359327ff",
   "metadata": {},
   "source": [
    "#### # // 는 숫자를 나누고 소수점 이하는 제거한다."
   ]
  },
  {
   "cell_type": "code",
   "execution_count": 40,
   "id": "358f5cb3",
   "metadata": {},
   "outputs": [
    {
     "name": "stdout",
     "output_type": "stream",
     "text": [
      "1.6666666666666667\n",
      "1\n"
     ]
    }
   ],
   "source": [
    "print(5/3)\n",
    "print(5//3)"
   ]
  },
  {
   "cell_type": "markdown",
   "id": "e78fa731",
   "metadata": {},
   "source": [
    "#### # 나머지 연산자"
   ]
  },
  {
   "cell_type": "code",
   "execution_count": 42,
   "id": "57fbc34e",
   "metadata": {
    "scrolled": false
   },
   "outputs": [
    {
     "name": "stdout",
     "output_type": "stream",
     "text": [
      "2\n"
     ]
    }
   ],
   "source": [
    "print(5%3)"
   ]
  },
  {
   "cell_type": "markdown",
   "id": "313f8df5",
   "metadata": {},
   "source": [
    "#### # 내장함수 divmod() \n",
    "- 두 숫자를 나누어 몫과 나머지를 tuple로 반환하는 함수"
   ]
  },
  {
   "cell_type": "code",
   "execution_count": 49,
   "id": "bd778ed4",
   "metadata": {},
   "outputs": [
    {
     "name": "stdout",
     "output_type": "stream",
     "text": [
      "(1, 2)\n"
     ]
    }
   ],
   "source": [
    "print(divmod(5,3))"
   ]
  },
  {
   "cell_type": "markdown",
   "id": "41332e8c",
   "metadata": {},
   "source": [
    "#### # 제곱 연산자(**)"
   ]
  },
  {
   "cell_type": "code",
   "execution_count": 50,
   "id": "3e092f82",
   "metadata": {},
   "outputs": [
    {
     "name": "stdout",
     "output_type": "stream",
     "text": [
      "125\n"
     ]
    }
   ],
   "source": [
    "print(5**3) # 5의 3승"
   ]
  },
  {
   "cell_type": "markdown",
   "id": "6d36c0bb",
   "metadata": {},
   "source": [
    "#### # 내장함수 pow()\n",
    "- 내장함수를 이용한 제곱 연산"
   ]
  },
  {
   "cell_type": "code",
   "execution_count": 54,
   "id": "eea211da",
   "metadata": {},
   "outputs": [
    {
     "name": "stdout",
     "output_type": "stream",
     "text": [
      "125\n"
     ]
    }
   ],
   "source": [
    "print(pow(5,3))"
   ]
  },
  {
   "cell_type": "markdown",
   "id": "63a194be",
   "metadata": {},
   "source": [
    "#### # 복합대입연산자"
   ]
  },
  {
   "cell_type": "code",
   "execution_count": 56,
   "id": "8a75217f",
   "metadata": {},
   "outputs": [
    {
     "name": "stdout",
     "output_type": "stream",
     "text": [
      "15\n"
     ]
    }
   ],
   "source": [
    "a=5\n",
    "a*=3 # a = a*3\n",
    "print(a)"
   ]
  },
  {
   "cell_type": "markdown",
   "id": "96a309bf",
   "metadata": {},
   "source": [
    "#### Math 모듈을 사용한 방법"
   ]
  },
  {
   "cell_type": "code",
   "execution_count": 60,
   "id": "49d097c2",
   "metadata": {},
   "outputs": [
    {
     "name": "stdout",
     "output_type": "stream",
     "text": [
      "1.0\n"
     ]
    }
   ],
   "source": [
    "import math\n",
    "print(math.log10(10))"
   ]
  },
  {
   "cell_type": "markdown",
   "id": "3f4e86bd",
   "metadata": {},
   "source": [
    "#### # Math 모듈을 활용한 제곱근 math.sqrt()"
   ]
  },
  {
   "cell_type": "code",
   "execution_count": 62,
   "id": "de0ee68c",
   "metadata": {},
   "outputs": [
    {
     "name": "stdout",
     "output_type": "stream",
     "text": [
      "2.8284271247461903\n"
     ]
    }
   ],
   "source": [
    "print(math.sqrt(8))"
   ]
  },
  {
   "cell_type": "markdown",
   "id": "6ce5aa19",
   "metadata": {},
   "source": [
    "#### # 문자열 연결연산자"
   ]
  },
  {
   "cell_type": "code",
   "execution_count": 64,
   "id": "b2ea2ba1",
   "metadata": {
    "scrolled": true
   },
   "outputs": [
    {
     "name": "stdout",
     "output_type": "stream",
     "text": [
      "11234\n"
     ]
    }
   ],
   "source": [
    "print('1'+'1234')"
   ]
  },
  {
   "cell_type": "markdown",
   "id": "ad4521ab",
   "metadata": {},
   "source": [
    "#### # 반복연산자 * "
   ]
  },
  {
   "cell_type": "code",
   "execution_count": 66,
   "id": "d228bc32",
   "metadata": {},
   "outputs": [
    {
     "name": "stdout",
     "output_type": "stream",
     "text": [
      "HHH\n",
      "HelloHelloHello\n",
      "HelloHelloHello\n"
     ]
    }
   ],
   "source": [
    "print('H'*3)\n",
    "print('Hello'*3)\n",
    "print(3*'Hello')"
   ]
  },
  {
   "cell_type": "markdown",
   "id": "f18dcca1",
   "metadata": {},
   "source": [
    "#### # 문자열 인덱싱"
   ]
  },
  {
   "cell_type": "code",
   "execution_count": 70,
   "id": "9aea4027",
   "metadata": {},
   "outputs": [
    {
     "name": "stdout",
     "output_type": "stream",
     "text": [
      "안녕하세요\n",
      "안\n",
      "하\n",
      "요\n"
     ]
    }
   ],
   "source": [
    "a='안녕하세요'\n",
    "print(a)\n",
    "print(a[0])\n",
    "print(a[2])\n",
    "print(a[-1])# 뒤에서 첫번째"
   ]
  },
  {
   "cell_type": "markdown",
   "id": "c1bf84b1",
   "metadata": {},
   "source": [
    "#### # 문자열 인덱싱 범위"
   ]
  },
  {
   "cell_type": "code",
   "execution_count": 77,
   "id": "5098d565",
   "metadata": {},
   "outputs": [
    {
     "name": "stdout",
     "output_type": "stream",
     "text": [
      "녕하\n",
      "안하요\n",
      "안하요\n",
      "안하요\n",
      "안녕하세요\n",
      "하세요\n"
     ]
    }
   ],
   "source": [
    "a=\"안녕하세요\"\n",
    "print(a[1:3]) # 1이상 3 미만\n",
    "print(a[0:5:2]) # 이상:미만:건너뛴다는 소리\n",
    "print(a[0::2]) # 이상 미만 스템\n",
    "print(a[::2])\n",
    "print(a[::])\n",
    "print(a[2:])"
   ]
  },
  {
   "cell_type": "markdown",
   "id": "17a75cfe",
   "metadata": {},
   "source": [
    "# 미션 1\n",
    "피할수 없으면 즐겨라 - 로버트 엘리엇<br>\n",
    "세줄로 표현<br>\n",
    "두가지 방법으로"
   ]
  },
  {
   "cell_type": "code",
   "execution_count": 86,
   "id": "26e81efe",
   "metadata": {},
   "outputs": [
    {
     "name": "stdout",
     "output_type": "stream",
     "text": [
      "\n",
      "피할수\n",
      "없으면\n",
      "즐겨라 - 로버트 엘리엇\n",
      "\n",
      "피할수\n",
      "없으면\n",
      "즐겨라\n"
     ]
    }
   ],
   "source": [
    "a=\"피할수 없으면 즐겨라 - 로버트 엘리엇\"\n",
    "b=\"\"\"\n",
    "피할수\n",
    "없으면\n",
    "즐겨라 - 로버트 엘리엇\n",
    "\"\"\"\n",
    "print(b)\n",
    "print(a[:3])\n",
    "print(a[4:7])\n",
    "print(a[8:11])"
   ]
  },
  {
   "cell_type": "markdown",
   "id": "e895d738",
   "metadata": {},
   "source": [
    "# 미션 2\n",
    "- 반복연산자를 활용하여\n",
    "- \"105105105105105\" 를 표현해라"
   ]
  },
  {
   "cell_type": "code",
   "execution_count": 87,
   "id": "0386f7c7",
   "metadata": {},
   "outputs": [
    {
     "name": "stdout",
     "output_type": "stream",
     "text": [
      "105105105105105\n"
     ]
    }
   ],
   "source": [
    "a=\"105\"\n",
    "print(a*5)"
   ]
  },
  {
   "cell_type": "markdown",
   "id": "990b2afc",
   "metadata": {},
   "source": [
    "### 리스트, 튜플, 사전,집합 자료형\n",
    "#### 리스트 : 대괄호로 지정[]\n",
    "- 내장함수 list() 를 이용한 리스트 선언"
   ]
  },
  {
   "cell_type": "code",
   "execution_count": 89,
   "id": "de57e868",
   "metadata": {},
   "outputs": [
    {
     "name": "stdout",
     "output_type": "stream",
     "text": [
      "[] <class 'list'>\n"
     ]
    }
   ],
   "source": [
    "l = list()\n",
    "print(l,type(l))"
   ]
  },
  {
   "cell_type": "code",
   "execution_count": 94,
   "id": "642119eb",
   "metadata": {},
   "outputs": [
    {
     "name": "stdout",
     "output_type": "stream",
     "text": [
      "<class 'list'>\n",
      "[1, 2, 3]\n"
     ]
    }
   ],
   "source": [
    "l2=[1,2,3]\n",
    "print(type(l2))\n",
    "print(l2)"
   ]
  },
  {
   "cell_type": "markdown",
   "id": "9cbc8b86",
   "metadata": {},
   "source": [
    "#### 리스트 인덱싱"
   ]
  },
  {
   "cell_type": "code",
   "execution_count": 103,
   "id": "fdc256ba",
   "metadata": {},
   "outputs": [
    {
     "name": "stdout",
     "output_type": "stream",
     "text": [
      "[1, 2, 3, 4, 5, 6, 7, 8, 9]\n",
      "1\n",
      "[1, 2, 3, 4]\n",
      "6\n",
      "[2, 4, 6, 8]\n",
      "9\n",
      "9\n",
      "9\n"
     ]
    }
   ],
   "source": [
    "l=[1,2,3,4,5,6,7,8,9]\n",
    "print(l)\n",
    "print(l[0])\n",
    "print(l[0:4])\n",
    "print(l[5])\n",
    "print(l[1::2])\n",
    "print(len(l)) # 리스트 길이\n",
    "print(l[8])\n",
    "# length 를 이용해서 마지막 숫자 출력\n",
    "print(l[len(l)-1])"
   ]
  },
  {
   "cell_type": "markdown",
   "id": "fb9b4ed8",
   "metadata": {},
   "source": [
    "#### 리스트는 값 변경이 가능하다."
   ]
  },
  {
   "cell_type": "code",
   "execution_count": 106,
   "id": "ed220c79",
   "metadata": {},
   "outputs": [
    {
     "name": "stdout",
     "output_type": "stream",
     "text": [
      "[90, 2, 3, 4, 5, 6, 7, 8, 9]\n",
      "[90, 2, 3, 4, 5, 60, 7, 8, 9]\n"
     ]
    }
   ],
   "source": [
    "l=[1,2,3,4,5,6,7,8,9]\n",
    "l[0]=90\n",
    "print(l)\n",
    "l[5]=60\n",
    "print(l)"
   ]
  },
  {
   "cell_type": "markdown",
   "id": "77328f8b",
   "metadata": {},
   "source": [
    "#### 리스트 요소의 값을 변경가능<br>다른 자료형이 올수도 있다."
   ]
  },
  {
   "cell_type": "code",
   "execution_count": 108,
   "id": "41f8ee5c",
   "metadata": {},
   "outputs": [
    {
     "name": "stdout",
     "output_type": "stream",
     "text": [
      "[1, [10, 20, 30], '문자', 4, 5, 6, 7, 8, 9]\n"
     ]
    }
   ],
   "source": [
    "l=[1,2,3,4,5,6,7,8,9]\n",
    "l[1]=[10,20,30]\n",
    "l[2]='문자'\n",
    "print(l)"
   ]
  },
  {
   "cell_type": "markdown",
   "id": "36586f02",
   "metadata": {},
   "source": [
    "#### 리스트의 여러 활용 함수\n",
    "- append\n",
    "- remove\n",
    "- reverse"
   ]
  },
  {
   "cell_type": "code",
   "execution_count": 111,
   "id": "81ee34e4",
   "metadata": {},
   "outputs": [
    {
     "name": "stdout",
     "output_type": "stream",
     "text": [
      "[1, 2, 3, 4, 5]\n",
      "[1, 2, 3, 4, 5, 6]\n"
     ]
    }
   ],
   "source": [
    "l=[1,2,3,4,5]\n",
    "print(l)\n",
    "l.append(6)\n",
    "print(l)"
   ]
  },
  {
   "cell_type": "code",
   "execution_count": 115,
   "id": "2d210a9e",
   "metadata": {},
   "outputs": [
    {
     "name": "stdout",
     "output_type": "stream",
     "text": [
      "['a', 'b', 'c', 'd', 'e']\n",
      "['a', 'c', 'd', 'e']\n",
      "['e', 'd', 'c', 'a']\n"
     ]
    }
   ],
   "source": [
    "l=['a','b','c','d','e']\n",
    "print(l)\n",
    "l.remove('b')\n",
    "print(l)\n",
    "l.reverse()\n",
    "print(l)"
   ]
  },
  {
   "cell_type": "markdown",
   "id": "29106305",
   "metadata": {},
   "source": [
    "### 튜플(tuple)\n",
    "- 자료형을 순차적으로 저장하는 집합적 자료형\n",
    "- 리스트와 비슷하지만 값을 변경할수없다.\n",
    "- ()로 정의한다.\n",
    "#### # 함수를 활용한 tuple 선언"
   ]
  },
  {
   "cell_type": "code",
   "execution_count": 117,
   "id": "794b39cd",
   "metadata": {},
   "outputs": [
    {
     "name": "stdout",
     "output_type": "stream",
     "text": [
      "<class 'tuple'>\n"
     ]
    }
   ],
   "source": [
    "t=tuple()\n",
    "print(type(t))"
   ]
  },
  {
   "cell_type": "markdown",
   "id": "6f10f84f",
   "metadata": {},
   "source": [
    "#### # () 를 활용한 선언"
   ]
  },
  {
   "cell_type": "code",
   "execution_count": 119,
   "id": "bd14f371",
   "metadata": {},
   "outputs": [
    {
     "name": "stdout",
     "output_type": "stream",
     "text": [
      "<class 'tuple'>\n",
      "(1, 2.3)\n"
     ]
    }
   ],
   "source": [
    "t=(1,2.3)\n",
    "print(type(t))\n",
    "print(t)"
   ]
  },
  {
   "cell_type": "code",
   "execution_count": 122,
   "id": "3a456330",
   "metadata": {},
   "outputs": [
    {
     "name": "stdout",
     "output_type": "stream",
     "text": [
      "[1, 2, 3] <class 'list'>\n",
      "(1, 2, 3) <class 'tuple'>\n"
     ]
    }
   ],
   "source": [
    "l=[1,2,3]\n",
    "t=(1,2,3)\n",
    "print(l,type(l))\n",
    "print(t,type(t))"
   ]
  },
  {
   "cell_type": "code",
   "execution_count": 125,
   "id": "b34381c7",
   "metadata": {},
   "outputs": [
    {
     "name": "stdout",
     "output_type": "stream",
     "text": [
      "1 [1, 2]\n",
      "1 (1, 2)\n",
      "[1, 2, 3, 1, 2, 3]\n",
      "(1, 2, 3, 1, 2, 3)\n"
     ]
    }
   ],
   "source": [
    "print(l[0],l[0:2])\n",
    "print(t[0],t[0:2])\n",
    "print(l+l)\n",
    "print(t+t)"
   ]
  },
  {
   "cell_type": "markdown",
   "id": "ed3665fe",
   "metadata": {},
   "source": [
    "### tuple은 변경 불가능하다.<br>상수적인 특징을 가지고 있다.\n",
    "- 처리속도는 list보다 tuple이 빠르다."
   ]
  },
  {
   "cell_type": "code",
   "execution_count": 126,
   "id": "79e02802",
   "metadata": {},
   "outputs": [
    {
     "name": "stdout",
     "output_type": "stream",
     "text": [
      "[1, 2, 3] <class 'list'>\n",
      "(1, 2, 3) <class 'tuple'>\n"
     ]
    }
   ],
   "source": [
    "l=[1,2,3]\n",
    "t=(1,2,3)\n",
    "print(l,type(l))\n",
    "print(t,type(t))"
   ]
  },
  {
   "cell_type": "markdown",
   "id": "67773617",
   "metadata": {},
   "source": [
    "### list 는 값 변경이 가능하다."
   ]
  },
  {
   "cell_type": "code",
   "execution_count": 129,
   "id": "3cfe5487",
   "metadata": {},
   "outputs": [
    {
     "name": "stdout",
     "output_type": "stream",
     "text": [
      "[50, 2, 3]\n"
     ]
    },
    {
     "ename": "TypeError",
     "evalue": "'tuple' object does not support item assignment",
     "output_type": "error",
     "traceback": [
      "\u001b[1;31m---------------------------------------------------------------------------\u001b[0m",
      "\u001b[1;31mTypeError\u001b[0m                                 Traceback (most recent call last)",
      "Cell \u001b[1;32mIn[129], line 3\u001b[0m\n\u001b[0;32m      1\u001b[0m l[\u001b[38;5;241m0\u001b[39m]\u001b[38;5;241m=\u001b[39m\u001b[38;5;241m50\u001b[39m\n\u001b[0;32m      2\u001b[0m \u001b[38;5;28mprint\u001b[39m(l)\n\u001b[1;32m----> 3\u001b[0m t[\u001b[38;5;241m0\u001b[39m]\u001b[38;5;241m=\u001b[39m\u001b[38;5;241m50\u001b[39m\n\u001b[0;32m      4\u001b[0m \u001b[38;5;28mprint\u001b[39m(t)\n",
      "\u001b[1;31mTypeError\u001b[0m: 'tuple' object does not support item assignment"
     ]
    }
   ],
   "source": [
    "l[0]=50\n",
    "print(l)\n",
    "t[0]=50\n",
    "print(t)"
   ]
  },
  {
   "cell_type": "markdown",
   "id": "46153f93",
   "metadata": {},
   "source": [
    "### 사전(Dict) 자료형 {} \n",
    "- 함수 사용 선언"
   ]
  },
  {
   "cell_type": "code",
   "execution_count": 131,
   "id": "8af2b719",
   "metadata": {},
   "outputs": [
    {
     "name": "stdout",
     "output_type": "stream",
     "text": [
      "{} <class 'dict'>\n"
     ]
    }
   ],
   "source": [
    "d=dict()\n",
    "print(d,type(d))"
   ]
  },
  {
   "cell_type": "markdown",
   "id": "bfeb1077",
   "metadata": {},
   "source": [
    "- {} 사용 선언\n",
    "- # {}사용 선언 키 중복 불가, 값이 중복되면 나중에 넣은 val가 출력"
   ]
  },
  {
   "cell_type": "code",
   "execution_count": 137,
   "id": "697b6d53",
   "metadata": {},
   "outputs": [
    {
     "name": "stdout",
     "output_type": "stream",
     "text": [
      "{'a': 1, 'b': 5, 'c': 3} <class 'dict'>\n"
     ]
    }
   ],
   "source": [
    "d={\n",
    "    'a':1,\n",
    "    'b':2,\n",
    "    'b':3,\n",
    "    'b':5,\n",
    "    'c':3\n",
    "}\n",
    "print(d,type(d))"
   ]
  },
  {
   "cell_type": "code",
   "execution_count": 143,
   "id": "18109329",
   "metadata": {
    "scrolled": true
   },
   "outputs": [
    {
     "name": "stdout",
     "output_type": "stream",
     "text": [
      "{1: 1, 'a': [1, 2, 3], (1, 2): 'aaa'}\n",
      "<class 'dict'>\n",
      "{'a': 1, 'b': 2}\n",
      "1\n",
      "{'a': 1, 'b': 2, 'c': 3}\n"
     ]
    }
   ],
   "source": [
    "d={\n",
    "    1:1,\n",
    "    'a':[1,2,3],\n",
    "    (1,2):\"aaa\"\n",
    "}\n",
    "print(d)\n",
    "print(type(d))\n",
    "\n",
    "# dict 추가 수정\n",
    "e={\n",
    "    'a':1,\n",
    "    'b':2\n",
    "}\n",
    "print(e)\n",
    "# 일부 출력\n",
    "print(e['a'])\n",
    "# 내용 추가\n",
    "e['c']=3\n",
    "print(e)"
   ]
  },
  {
   "cell_type": "markdown",
   "id": "5765b2f2",
   "metadata": {},
   "source": [
    "####  #dict 없는 키를 참조하려면 오류"
   ]
  },
  {
   "cell_type": "code",
   "execution_count": 145,
   "id": "39cea304",
   "metadata": {},
   "outputs": [
    {
     "ename": "KeyError",
     "evalue": "'c'",
     "output_type": "error",
     "traceback": [
      "\u001b[1;31m---------------------------------------------------------------------------\u001b[0m",
      "\u001b[1;31mKeyError\u001b[0m                                  Traceback (most recent call last)",
      "Cell \u001b[1;32mIn[145], line 5\u001b[0m\n\u001b[0;32m      1\u001b[0m d\u001b[38;5;241m=\u001b[39m{\n\u001b[0;32m      2\u001b[0m     \u001b[38;5;124m'\u001b[39m\u001b[38;5;124ma\u001b[39m\u001b[38;5;124m'\u001b[39m:\u001b[38;5;241m1\u001b[39m,\n\u001b[0;32m      3\u001b[0m     \u001b[38;5;124m'\u001b[39m\u001b[38;5;124mb\u001b[39m\u001b[38;5;124m'\u001b[39m:\u001b[38;5;241m2\u001b[39m\n\u001b[0;32m      4\u001b[0m }\n\u001b[1;32m----> 5\u001b[0m \u001b[38;5;28mprint\u001b[39m(d[\u001b[38;5;124m'\u001b[39m\u001b[38;5;124mc\u001b[39m\u001b[38;5;124m'\u001b[39m])\n",
      "\u001b[1;31mKeyError\u001b[0m: 'c'"
     ]
    }
   ],
   "source": [
    "d={\n",
    "    'a':1,\n",
    "    'b':2\n",
    "}\n",
    "print(d['c'])"
   ]
  },
  {
   "cell_type": "markdown",
   "id": "5371beb9",
   "metadata": {},
   "source": [
    "### Json, Xml과 유사한 형식으로 빅데이터 분석에 활용된다."
   ]
  },
  {
   "cell_type": "code",
   "execution_count": 147,
   "id": "120dfe1e",
   "metadata": {},
   "outputs": [
    {
     "name": "stdout",
     "output_type": "stream",
     "text": [
      "{'a': 1, 'b': 2, 'c': 3}\n"
     ]
    }
   ],
   "source": [
    "d={\n",
    "    'a':1,\n",
    "    'b':2,\n",
    "    'c':3\n",
    "}\n",
    "print(d)"
   ]
  },
  {
   "cell_type": "markdown",
   "id": "cb0b507e",
   "metadata": {},
   "source": [
    "- key, value, items 출력"
   ]
  },
  {
   "cell_type": "code",
   "execution_count": 151,
   "id": "02b90227",
   "metadata": {},
   "outputs": [
    {
     "name": "stdout",
     "output_type": "stream",
     "text": [
      "dict_keys(['a', 'b', 'c'])\n",
      "dict_values([1, 2, 3])\n",
      "dict_items([('a', 1), ('b', 2), ('c', 3)])\n"
     ]
    }
   ],
   "source": [
    "print(d.keys())\n",
    "print(d.values())\n",
    "print(d.items())"
   ]
  },
  {
   "cell_type": "markdown",
   "id": "3308959b",
   "metadata": {},
   "source": [
    "### 집합 (set)\n",
    "- 중복과 순서가 없는 자료형\n",
    "- 순서가 없기 때문에 인덱싱을 지원하지 않는다.\n",
    "- {} 로 표현\n",
    "- 내장함수 set() 을 이용한 표현"
   ]
  },
  {
   "cell_type": "code",
   "execution_count": 156,
   "id": "61ff0076",
   "metadata": {},
   "outputs": [
    {
     "name": "stdout",
     "output_type": "stream",
     "text": [
      "{1, 2, 3, 4, 5} <class 'set'>\n"
     ]
    }
   ],
   "source": [
    "# {} 이용 선언\n",
    "s={1,2,3,4,5}\n",
    "print(s,type(s))"
   ]
  },
  {
   "cell_type": "code",
   "execution_count": 157,
   "id": "17354954",
   "metadata": {},
   "outputs": [
    {
     "name": "stdout",
     "output_type": "stream",
     "text": [
      "{'H', 'o', 'e', 'l'}\n"
     ]
    }
   ],
   "source": [
    "# set 함수 이용한 표현\n",
    "s=set(\"Hello\")\n",
    "print(s)"
   ]
  },
  {
   "cell_type": "markdown",
   "id": "1367a142",
   "metadata": {},
   "source": [
    "### 교집합 합집합 차집합"
   ]
  },
  {
   "cell_type": "code",
   "execution_count": 163,
   "id": "eba46e24",
   "metadata": {},
   "outputs": [
    {
     "name": "stdout",
     "output_type": "stream",
     "text": [
      "{1, 2, 3, 4, 5, 6}\n",
      "{4, 5, 6, 7, 8, 9}\n",
      "{4, 5, 6}\n",
      "{1, 2, 3, 4, 5, 6, 7, 8, 9}\n",
      "{1, 2, 3, 4, 5, 6, 7, 8, 9}\n",
      "{1, 2, 3}\n",
      "{1, 2, 3}\n",
      "{1, 2, 3}\n"
     ]
    }
   ],
   "source": [
    "s1=set([1,2,3,4,5,6])\n",
    "s2=set([4,5,6,7,8,9])\n",
    "print(s1)\n",
    "print(s2)\n",
    "\n",
    "# 교집합\n",
    "print(s1&s2)\n",
    "\n",
    "# 합집합\n",
    "print(s1|s2)\n",
    "print(s1.union(s2))\n",
    "\n",
    "# 차집합\n",
    "print(s1-s2)\n",
    "print(s1.difference(s2))\n",
    "\n",
    "s={1,2,3}\n",
    "print(s)"
   ]
  },
  {
   "cell_type": "markdown",
   "id": "e4196e45",
   "metadata": {},
   "source": [
    "#### 값 추가 add()함수 사용 update({})함수 사용"
   ]
  },
  {
   "cell_type": "code",
   "execution_count": 174,
   "id": "48768119",
   "metadata": {},
   "outputs": [
    {
     "name": "stdout",
     "output_type": "stream",
     "text": [
      "{1, 2, 3, 5, 6, 7, 8}\n",
      "{1, 2, 3, 5, 6, 7, 8}\n",
      "{1, 2, 3, 5, 6, 7, 8}\n",
      "{1, 2, 3, 6, 7, 8}\n"
     ]
    }
   ],
   "source": [
    "s.add(8)\n",
    "print(s)\n",
    "s.update({5})\n",
    "print(s)\n",
    "s.update({6,7})\n",
    "print(s)\n",
    "# 삭제 remove()\n",
    "s.remove(5)\n",
    "print(s)"
   ]
  },
  {
   "cell_type": "code",
   "execution_count": 188,
   "id": "9acd338f",
   "metadata": {},
   "outputs": [
    {
     "name": "stdout",
     "output_type": "stream",
     "text": [
      "[1, 1, 1, 1, 2, 2, 2, 2, 3, 3, 3, 4, 5, 5, 5, 5, 6, 6, 6, 7, 7, 8, 5, 6]\n",
      "[1, 2, 3, 4, 5, 6, 7, 8] <class 'list'>\n",
      "(1, 2, 3, 4, 5, 6, 7, 8, 9) <class 'tuple'>\n",
      "(2, 3, 4, 5, 6, 7, 8, 9) <class 'tuple'>\n",
      "(1, 3, 4, 5, 6, 7, 8, 9) <class 'tuple'>\n"
     ]
    }
   ],
   "source": [
    "# 미션 1 \n",
    "# 자료형의 특징을 이용해 리스트의 중복값 제거\n",
    "l=[1,1,1,1,2,2,2,2,3,3,3,4,5,5,5,5,6,6,6,7,7,8,5,6]\n",
    "print(l)\n",
    "temp=list(set(l))\n",
    "print(temp,type(temp))\n",
    "# 미션 2 \n",
    "# 튜플의 값을 추가 수정 삭제 구현\n",
    "t={1,2,3,4,5,6,7,8}\n",
    "t=list(t)\n",
    "t.append(9)\n",
    "t=tuple(t)\n",
    "print(t,type(t))\n",
    "t=list(t)\n",
    "t.remove(1)\n",
    "t=tuple(t)\n",
    "print(t,type(t))\n",
    "t=list(t)\n",
    "t[0]=1\n",
    "t=tuple(t)\n",
    "print(t,type(t))"
   ]
  },
  {
   "cell_type": "markdown",
   "id": "bc7e6151",
   "metadata": {},
   "source": [
    "### list, tuple dict 자료형 활용\n",
    "#### # list 안에 리스트(다차원 배열 )"
   ]
  },
  {
   "cell_type": "code",
   "execution_count": 193,
   "id": "f6c58464",
   "metadata": {},
   "outputs": [
    {
     "name": "stdout",
     "output_type": "stream",
     "text": [
      "[[1, 2, 3], [4, 5, 6], [7, 8, 9]]\n",
      "[1, 2, 3]\n",
      "2\n",
      "7\n"
     ]
    }
   ],
   "source": [
    "l=[[1,2,3],[4,5,6],[7,8,9]]\n",
    "print(l)\n",
    "print(l[0])\n",
    "print(l[0][1])\n",
    "print(l[2][0])"
   ]
  },
  {
   "cell_type": "markdown",
   "id": "143297d9",
   "metadata": {},
   "source": [
    "#### # list insert() 함수 사용해서 특정 index에 값 추가"
   ]
  },
  {
   "cell_type": "code",
   "execution_count": 197,
   "id": "f2bf51d9",
   "metadata": {},
   "outputs": [
    {
     "name": "stdout",
     "output_type": "stream",
     "text": [
      "[1, 2, 3, 4, 5, 6, 7, 8]\n",
      "[10, 1, 2, 3, 4, 5, 6, 7, 8]\n",
      "[10, 1, 2, 3, 'hihi', 4, 5, 6, 7, 8]\n"
     ]
    }
   ],
   "source": [
    "l=[1,2,3,4,5,6,7,8]\n",
    "print(l)\n",
    "# 0번째 인덱스에 10 추가\n",
    "l.insert(0,10)\n",
    "print(l)\n",
    "\n",
    "l.insert(4,'hihi')\n",
    "print(l)"
   ]
  },
  {
   "cell_type": "markdown",
   "id": "5f112d33",
   "metadata": {},
   "source": [
    "#### # pop 을 활용한 값 삭제 - 스택 FILO(선입후출 구조)"
   ]
  },
  {
   "cell_type": "code",
   "execution_count": 201,
   "id": "3ae9d8ee",
   "metadata": {},
   "outputs": [
    {
     "name": "stdout",
     "output_type": "stream",
     "text": [
      "[9, 8, 7, 6, 5, 4, 9]\n",
      "[9, 8, 7, 6, 5, 4]\n",
      "[9, 8, 7, 6, 5]\n"
     ]
    }
   ],
   "source": [
    "l=[9,8,7,6,5,4,9]\n",
    "print(l)\n",
    "l.pop()\n",
    "print(l)\n",
    "l.pop()\n",
    "print(l)"
   ]
  },
  {
   "cell_type": "markdown",
   "id": "1b6377a0",
   "metadata": {},
   "source": [
    "#### # index로 바로 제거"
   ]
  },
  {
   "cell_type": "code",
   "execution_count": 203,
   "id": "5b3c659f",
   "metadata": {},
   "outputs": [
    {
     "name": "stdout",
     "output_type": "stream",
     "text": [
      "[7, 6, 5]\n"
     ]
    }
   ],
   "source": [
    "l.pop(0)\n",
    "print(l)"
   ]
  },
  {
   "cell_type": "markdown",
   "id": "499f82a1",
   "metadata": {},
   "source": [
    "#### # reverse 거꾸로 표현(정렬)"
   ]
  },
  {
   "cell_type": "code",
   "execution_count": 206,
   "id": "1399cdb6",
   "metadata": {},
   "outputs": [
    {
     "name": "stdout",
     "output_type": "stream",
     "text": [
      "[2, 3, 4, 1, 2]\n",
      "[2, 1, 4, 3, 2]\n"
     ]
    }
   ],
   "source": [
    "l=[2,3,4,1,2]\n",
    "print(l)\n",
    "l.reverse()\n",
    "print(l)\n"
   ]
  },
  {
   "cell_type": "markdown",
   "id": "fdb77ae2",
   "metadata": {},
   "source": [
    "#### # count 함수 활용"
   ]
  },
  {
   "cell_type": "code",
   "execution_count": 212,
   "id": "43e7fdce",
   "metadata": {},
   "outputs": [
    {
     "name": "stdout",
     "output_type": "stream",
     "text": [
      "4\n",
      "4\n",
      "0\n"
     ]
    }
   ],
   "source": [
    "l=[1,1,1,1,2,2,2,2,3,3,3,3,4,4,4,4,5,5,5,5,6,6,6,7,7,8,5,6]\n",
    "print(l.count(1))\n",
    "print(l.count(3))\n",
    "print(l.count(0)) # 값이 없으면 0이 나옴"
   ]
  },
  {
   "cell_type": "markdown",
   "id": "4b63e4a7",
   "metadata": {},
   "source": [
    "## 반복문\n",
    "#### # 리스트 활용해서 반복문 적용"
   ]
  },
  {
   "cell_type": "code",
   "execution_count": 216,
   "id": "3702a8c1",
   "metadata": {},
   "outputs": [
    {
     "name": "stdout",
     "output_type": "stream",
     "text": [
      "[0, 1, 2, 3, 4]\n"
     ]
    }
   ],
   "source": [
    "f=[]\n",
    "for i in range(5):\n",
    "    f.append(i)\n",
    "print(f)"
   ]
  },
  {
   "cell_type": "markdown",
   "id": "d7fbb1af",
   "metadata": {},
   "source": [
    "### 리스트를 큐로 활용\n",
    "- FIFO (First in First Out)"
   ]
  },
  {
   "cell_type": "code",
   "execution_count": 219,
   "id": "09d79ba8",
   "metadata": {},
   "outputs": [
    {
     "name": "stdout",
     "output_type": "stream",
     "text": [
      "[1, 2, 3, 4, 5, 6]\n",
      "[2, 3, 4, 5, 6]\n",
      "[3, 4, 5, 6]\n",
      "[4, 5, 6]\n"
     ]
    }
   ],
   "source": [
    "l=[1,2,3,4,5]\n",
    "l.append(6)\n",
    "print(l)\n",
    "\n",
    "l.pop(0) #큐의 자료형의미로 데이터 pop\n",
    "print(l)\n",
    "l.pop(0) #큐의 자료형의미로 데이터 pop\n",
    "print(l)\n",
    "l.pop(0) #큐의 자료형의미로 데이터 pop\n",
    "print(l)"
   ]
  },
  {
   "cell_type": "markdown",
   "id": "8dbaca67",
   "metadata": {},
   "source": [
    "### tuple 의 활용"
   ]
  },
  {
   "cell_type": "code",
   "execution_count": 221,
   "id": "b3412a0d",
   "metadata": {},
   "outputs": [
    {
     "name": "stdout",
     "output_type": "stream",
     "text": [
      "<class 'tuple'>\n"
     ]
    }
   ],
   "source": [
    "t=()\n",
    "print(type(t))"
   ]
  },
  {
   "cell_type": "markdown",
   "id": "d34dfb64",
   "metadata": {},
   "source": [
    "#### # 원소가 하나인 튜플 정의<br># 원소가 하나일떄는 , 를 활용해서 정의한다."
   ]
  },
  {
   "cell_type": "code",
   "execution_count": 224,
   "id": "919ef994",
   "metadata": {},
   "outputs": [
    {
     "name": "stdout",
     "output_type": "stream",
     "text": [
      "1 <class 'int'>\n",
      "[5, 6]\n",
      "1 <class 'int'>\n"
     ]
    }
   ],
   "source": [
    "t=(1)\n",
    "print(t,type(t))\n",
    "t=(1,)\n",
    "l.pop(0) # 큐의 자료형 의미로 데이터 pop\n",
    "print(l)\n",
    "# 또는\n",
    "t=1\n",
    "print(t,type(t))"
   ]
  },
  {
   "cell_type": "markdown",
   "id": "21375523",
   "metadata": {},
   "source": [
    "#### # tuple count 활용"
   ]
  },
  {
   "cell_type": "code",
   "execution_count": 229,
   "id": "d263e97a",
   "metadata": {},
   "outputs": [
    {
     "name": "stdout",
     "output_type": "stream",
     "text": [
      "4\n"
     ]
    }
   ],
   "source": [
    "t=(1,2,2,2,2,3,3,4,4,5,5,5,6,4,5,68,79)\n",
    "print(t.count(2))"
   ]
  },
  {
   "cell_type": "markdown",
   "id": "bf51f2ef",
   "metadata": {},
   "source": [
    "#### # tuple 의 index 활용"
   ]
  },
  {
   "cell_type": "code",
   "execution_count": 232,
   "id": "0adbf4d3",
   "metadata": {},
   "outputs": [
    {
     "name": "stdout",
     "output_type": "stream",
     "text": [
      "9\n",
      "1\n"
     ]
    }
   ],
   "source": [
    "print(t.index(5)) # 5데이터의 index 값 출력\n",
    "print(t.index(2)) # 중복값의 첫번째 출력"
   ]
  },
  {
   "cell_type": "code",
   "execution_count": 234,
   "id": "07193705",
   "metadata": {},
   "outputs": [
    {
     "name": "stdout",
     "output_type": "stream",
     "text": [
      "1\n",
      "2\n",
      "3\n"
     ]
    }
   ],
   "source": [
    "x,y,z=1,2,3\n",
    "print(x)\n",
    "print(y)\n",
    "print(z)"
   ]
  },
  {
   "cell_type": "markdown",
   "id": "76501fad",
   "metadata": {},
   "source": [
    "### # 함수(def)를 활용해서 튜플 리턴하기"
   ]
  },
  {
   "cell_type": "code",
   "execution_count": 237,
   "id": "4d0922f5",
   "metadata": {},
   "outputs": [
    {
     "name": "stdout",
     "output_type": "stream",
     "text": [
      "1\n",
      "2\n"
     ]
    }
   ],
   "source": [
    "def test(): #파이썬 함수\n",
    "    return(1,2)\n",
    "a,b=test()\n",
    "print(a)\n",
    "print(b)"
   ]
  },
  {
   "cell_type": "markdown",
   "id": "bcc8fef0",
   "metadata": {},
   "source": [
    "### 사전(dict) 활용\n",
    "- 키 벨류로 구성, 키는 중복불가\n",
    "- 같은 키에 값을 대입하면 기본의 value 가 사라진다."
   ]
  },
  {
   "cell_type": "code",
   "execution_count": 239,
   "id": "5e879f47",
   "metadata": {},
   "outputs": [
    {
     "name": "stdout",
     "output_type": "stream",
     "text": [
      "{1: 1, 'a': 2}\n",
      "2\n",
      "{1: 1, 'a': 100}\n"
     ]
    }
   ],
   "source": [
    "d={}\n",
    "d[1]=1\n",
    "d['a']=2\n",
    "print(d)\n",
    "#  결과 출력\n",
    "print(d['a'])\n",
    "# 중복된 키는 기존 value 제거\n",
    "d['a']=100\n",
    "print(d)"
   ]
  },
  {
   "cell_type": "markdown",
   "id": "529ac23b",
   "metadata": {},
   "source": [
    "####  #update 활용한 dict 의 병합"
   ]
  },
  {
   "cell_type": "code",
   "execution_count": 255,
   "id": "e0fd4131",
   "metadata": {},
   "outputs": [
    {
     "name": "stdout",
     "output_type": "stream",
     "text": [
      "{'a': 1, 'b': 2, 'c': 1, 'd': 2, 'e': 3}\n"
     ]
    }
   ],
   "source": [
    "dict1={'a':1,'b':2,'c':3}\n",
    "dict2={'c':1,'d':2,'e':3}\n",
    "# update 활용\n",
    "dict1.update(dict2)\n",
    "print(dict1)\n",
    "# 키값이 중복일경우 니중에 들어오는 값이 적용됨"
   ]
  },
  {
   "cell_type": "markdown",
   "id": "38c007c7",
   "metadata": {},
   "source": [
    "#### #dict에서 pop사용"
   ]
  },
  {
   "cell_type": "code",
   "execution_count": 256,
   "id": "d167ce8a",
   "metadata": {},
   "outputs": [
    {
     "name": "stdout",
     "output_type": "stream",
     "text": [
      "{'a': 1, 'b': 2, 'c': 3}\n",
      "{'b': 2, 'c': 3}\n",
      "{}\n"
     ]
    }
   ],
   "source": [
    "d={'a':1,'b':2,'c':3}\n",
    "print(d)\n",
    "d.pop('a')\n",
    "print(d)\n",
    "# 전체삭제\n",
    "d.clear()\n",
    "print(d)"
   ]
  },
  {
   "cell_type": "markdown",
   "id": "fd300902",
   "metadata": {},
   "source": [
    "#### # 사전의 복사 copy"
   ]
  },
  {
   "cell_type": "code",
   "execution_count": 257,
   "id": "97bc4b0f",
   "metadata": {},
   "outputs": [
    {
     "name": "stdout",
     "output_type": "stream",
     "text": [
      "{'a': 1, 'b': 2, 'c': 3}\n",
      "{'a': 1, 'b': 2, 'c': 3}\n",
      "{'a': 1, 'b': 2, 'c': 3}\n"
     ]
    }
   ],
   "source": [
    "d={'a':1,'b':2,'c':3}\n",
    "a=d.copy() #copy후 \n",
    "b=d  #대체도가능\n",
    "print(d)\n",
    "print(a)\n",
    "print(b)"
   ]
  },
  {
   "cell_type": "markdown",
   "id": "86fb2574",
   "metadata": {},
   "source": [
    "#### # 반복문에서 dict\n",
    "- value 값 출력"
   ]
  },
  {
   "cell_type": "code",
   "execution_count": 241,
   "id": "ac69414f",
   "metadata": {},
   "outputs": [
    {
     "name": "stdout",
     "output_type": "stream",
     "text": [
      "1\n",
      "2\n",
      "3\n"
     ]
    }
   ],
   "source": [
    "d={'a':1,'b':2,'c':3}\n",
    "for i in d.values():\n",
    "    print(i) #val값출력\n",
    "    "
   ]
  },
  {
   "cell_type": "markdown",
   "id": "e4002768",
   "metadata": {},
   "source": [
    "- item 값 출력"
   ]
  },
  {
   "cell_type": "code",
   "execution_count": 244,
   "id": "541dc3c2",
   "metadata": {
    "scrolled": false
   },
   "outputs": [
    {
     "name": "stdout",
     "output_type": "stream",
     "text": [
      "('a', 1)\n",
      "('b', 2)\n",
      "('c', 3)\n"
     ]
    }
   ],
   "source": [
    "d={'a':1,'b':2,'c':3}\n",
    "for i in d.items():\n",
    "    print(i) #item 출력"
   ]
  },
  {
   "cell_type": "markdown",
   "id": "e868041a",
   "metadata": {},
   "source": [
    "#### #  in을 활용해서 dict 값의 유무확인"
   ]
  },
  {
   "cell_type": "code",
   "execution_count": 254,
   "id": "480c078f",
   "metadata": {
    "scrolled": true
   },
   "outputs": [
    {
     "name": "stdout",
     "output_type": "stream",
     "text": [
      "{'a': 1, 'b': 2, 'c': 3}\n",
      "True\n",
      "False\n",
      "True\n",
      "False\n"
     ]
    }
   ],
   "source": [
    "d={'a':1,'b':2,'c':3}\n",
    "print(d)\n",
    "# 키값 확인\n",
    "print('a' in d)\n",
    "print('k' in d)\n",
    "# value 값 확인\n",
    "print(2 in d.values())\n",
    "print(20 in d.values())"
   ]
  },
  {
   "cell_type": "markdown",
   "id": "c8bc981f",
   "metadata": {},
   "source": [
    "#### # 정렬 Sort , 역정렬"
   ]
  },
  {
   "cell_type": "code",
   "execution_count": 263,
   "id": "e524ad45",
   "metadata": {
    "scrolled": true
   },
   "outputs": [
    {
     "name": "stdout",
     "output_type": "stream",
     "text": [
      "[9, 8, 7, 6, 5, 4, 3, 2, 1]\n"
     ]
    }
   ],
   "source": [
    "l=[2,5,1,3,6,4,8,7,9]\n",
    "# 정렬해서 출력\n",
    "l.sort() # 오름차순\n",
    "l.sort(reverse=True) # 내림차순\n",
    "print(l)"
   ]
  },
  {
   "cell_type": "code",
   "execution_count": 261,
   "id": "a9e878f6",
   "metadata": {
    "scrolled": false
   },
   "outputs": [
    {
     "name": "stdout",
     "output_type": "stream",
     "text": [
      "{'a': 1, 'b': 2, 'c': 3, 'd': 1, 'f': 2}\n"
     ]
    }
   ],
   "source": [
    "dict1={'a':1,'b':2,'c':3}\n",
    "dict2={'d':1,'f':2,'c':3}\n",
    "# 병합\n",
    "dict1.update(dict2)\n",
    "print(dict1)"
   ]
  }
 ],
 "metadata": {
  "kernelspec": {
   "display_name": "Python 3 (ipykernel)",
   "language": "python",
   "name": "python3"
  },
  "language_info": {
   "codemirror_mode": {
    "name": "ipython",
    "version": 3
   },
   "file_extension": ".py",
   "mimetype": "text/x-python",
   "name": "python",
   "nbconvert_exporter": "python",
   "pygments_lexer": "ipython3",
   "version": "3.11.3"
  }
 },
 "nbformat": 4,
 "nbformat_minor": 5
}

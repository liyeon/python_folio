{
 "cells": [
  {
   "cell_type": "code",
   "execution_count": 42,
   "id": "1ef61b4c",
   "metadata": {},
   "outputs": [
    {
     "name": "stdout",
     "output_type": "stream",
     "text": [
      "1위 [예스리커버] 아기 판다 푸바오 에버랜드 동물원 글그림 https://image.yes24.com/Goods/120253399/S\n",
      "http://www.yes24.com//Product/Goods/120253399\n",
      "2위 세이노의 가르침 세이노(SayNo) 저  https://image.yes24.com/Goods/117014613/S\n",
      "http://www.yes24.com//Product/Goods/117014613\n",
      "3위 문과 남자의 과학 공부 유시민 저 https://image.yes24.com/Goods/119608737/S\n",
      "http://www.yes24.com//Product/Goods/119608737\n",
      "4위 도둑맞은 집중력 요한 하리 저/김하현 역 https://image.yes24.com/Goods/118579613/S\n",
      "http://www.yes24.com//Product/Goods/118579613\n",
      "5위 2023 큰별쌤 최태성의 별별한국사 한국사능력검정시험 심화(1,2,3급) 상 최태성 저 https://image.yes24.com/Goods/116206629/S\n",
      "http://www.yes24.com//Product/Goods/116206629\n",
      "6위 2023 큰별쌤 최태성의 별별한국사 한국사능력검정시험 심화(1,2,3급) 하 최태성 저 https://image.yes24.com/Goods/116206662/S\n",
      "http://www.yes24.com//Product/Goods/116206662\n",
      "7위 역행자 확장판 자청 저 https://image.yes24.com/Goods/119120517/S\n",
      "http://www.yes24.com//Product/Goods/119120517\n",
      "8위 꿀벌의 예언 1 베르나르 베르베르 저/전미연 역 https://image.yes24.com/Goods/119609441/S\n",
      "http://www.yes24.com//Product/Goods/119609441\n",
      "9위 흔한남매 과학 탐험대 8 생물 2 흔한남매 원저/김언정,이현진 글/김덕영 그림/정현철,김희목,권경아,최진수 기획/권경아 감수 https://image.yes24.com/Goods/120007834/S\n",
      "http://www.yes24.com//Product/Goods/120007834\n",
      "10위 최소한의 한국사 최태성 저  https://image.yes24.com/Goods/119458052/S\n",
      "http://www.yes24.com//Product/Goods/119458052\n"
     ]
    }
   ],
   "source": [
    "import requests\n",
    "from bs4 import BeautifulSoup\n",
    "url = 'https://www.yes24.com/Main/default.aspx'\n",
    "res = requests.post(url)\n",
    "soup = BeautifulSoup(res.text, 'html.parser')\n",
    "books = soup.select('li.tp02')\n",
    "book_list=[]\n",
    "for book in books:\n",
    "    rank = book.select('strong')[0].text\n",
    "    title = book.select('strong')[1].text\n",
    "    author = book.select('em')[1].text\n",
    "    url = 'http://www.yes24.com/' + book.select_one('a')['href']\n",
    "    img = book.select('.rnk_img img')[0]['src']\n",
    "    book_list.append([rank,title,author,url,img])\n",
    "    print(rank,title,author,img)\n",
    "    print(url)\n",
    "    \n"
   ]
  },
  {
   "cell_type": "code",
   "execution_count": 44,
   "id": "3c3ae05e",
   "metadata": {},
   "outputs": [],
   "source": [
    "import pandas as pd\n",
    "df = pd.DataFrame(book_list, columns=['순위','제목','저자','링크','이미지링크'])\n",
    "df.to_excel('C:/aa/yes24.xlsx', index=False)"
   ]
  },
  {
   "cell_type": "code",
   "execution_count": 51,
   "id": "39a5250a",
   "metadata": {
    "scrolled": true
   },
   "outputs": [],
   "source": [
    "import requests\n",
    "from bs4 import BeautifulSoup\n",
    "url = 'hhttps://www.aladin.co.kr/shop/common/wbest.aspx'\n",
    "res = requests.post(url)\n",
    "soup = BeautifulSoup(res.text, 'html.parser')\n",
    "books = soup.select('form#Myform')\n",
    "print(books)\n",
    "book_list=[]\n",
    "for book in books:\n",
    "    rank=book.select('div')[0]\n",
    "    print(url)\n",
    "# for book in books:\n",
    "#     rank = book.select('strong')[0].text\n",
    "#     title = book.select('strong')[1].text\n",
    "#     author = book.select('em')[1].text\n",
    "#     url = 'http://www.yes24.com/' + book.select_one('a')['href']\n",
    "#     img = book.select('.rnk_img img')[0]['src']\n",
    "#     book_list.append([rank,title,author,url,img])\n",
    "#     print(rank,title,author,img)\n",
    "#     print(url)\n",
    "    "
   ]
  }
 ],
 "metadata": {
  "kernelspec": {
   "display_name": "Python 3 (ipykernel)",
   "language": "python",
   "name": "python3"
  },
  "language_info": {
   "codemirror_mode": {
    "name": "ipython",
    "version": 3
   },
   "file_extension": ".py",
   "mimetype": "text/x-python",
   "name": "python",
   "nbconvert_exporter": "python",
   "pygments_lexer": "ipython3",
   "version": "3.11.3"
  }
 },
 "nbformat": 4,
 "nbformat_minor": 5
}

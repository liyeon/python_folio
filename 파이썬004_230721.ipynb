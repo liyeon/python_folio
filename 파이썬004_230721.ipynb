{
 "cells": [
  {
   "cell_type": "markdown",
   "id": "05186e7e",
   "metadata": {},
   "source": [
    "### 파일 입출력\n",
    "##### 모드\n",
    "- r : 읽기\n",
    "- w : 쓰기\n",
    "- x : 쓰기 전용\n",
    "- a : 추가\n",
    "- '+ : 갱신"
   ]
  },
  {
   "cell_type": "code",
   "execution_count": null,
   "id": "aeace353",
   "metadata": {},
   "outputs": [],
   "source": [
    "f= open('a.txt','a')\n",
    "f.write('456789')\n",
    "f.close()"
   ]
  },
  {
   "cell_type": "code",
   "execution_count": null,
   "id": "417dee9e",
   "metadata": {},
   "outputs": [],
   "source": [
    "import os\n",
    "print(os.getcwd()) # 현재 작업 디렉토리 경로"
   ]
  },
  {
   "cell_type": "code",
   "execution_count": null,
   "id": "f15abfc1",
   "metadata": {},
   "outputs": [],
   "source": [
    "# w : 기존 파일에 새로 작성\n",
    "f= open('a.txt','w')\n",
    "f.write('456789')\n",
    "f.close()"
   ]
  },
  {
   "cell_type": "code",
   "execution_count": null,
   "id": "c1ff04ec",
   "metadata": {},
   "outputs": [],
   "source": [
    "# w, x 비교 x 는 파일이 있으면 에러\n",
    "# 새로운 파일을 생성하면서 작성한다.\n",
    "f= open('b.txt','x') \n",
    "f.write('456789')\n",
    "f.close()"
   ]
  },
  {
   "cell_type": "code",
   "execution_count": null,
   "id": "4b6b4a02",
   "metadata": {},
   "outputs": [],
   "source": [
    "# 여러줄 내용 입력\n",
    "f=open('a.txt','w')\n",
    "f.write(\"\"\"123\n",
    "456\n",
    "789\n",
    "\"\"\")\n",
    "f.close()"
   ]
  },
  {
   "cell_type": "code",
   "execution_count": null,
   "id": "eed55b11",
   "metadata": {},
   "outputs": [],
   "source": [
    "f=open('a.txt','w')\n",
    "f.write(\"123\\n456\\n789\")\n",
    "f.close()"
   ]
  },
  {
   "cell_type": "code",
   "execution_count": null,
   "id": "c11248f6",
   "metadata": {},
   "outputs": [],
   "source": [
    "# 리스트 튜플 내용 입력\n",
    "t=(\"1\",\"1\",\"1\",\"1\",\"1\",\"1\",\"\\n\")\n",
    "l=[\"1\",\"1\",\"1\",\"1\",\"1\",\"1\"]\n",
    "f=open('a.txt','w')\n",
    "f.writelines(t)\n",
    "f.writelines(l)\n",
    "f.close()"
   ]
  },
  {
   "cell_type": "code",
   "execution_count": null,
   "id": "26c08a7d",
   "metadata": {},
   "outputs": [],
   "source": [
    "# 읽기\n",
    "f=open('a.txt','r')\n",
    "print(f.read())\n",
    "f.close()"
   ]
  },
  {
   "cell_type": "code",
   "execution_count": null,
   "id": "48f475db",
   "metadata": {},
   "outputs": [],
   "source": [
    "# 한줄씩 읽어오기\n",
    "f=open('a.txt','r')\n",
    "print(f.readline())\n",
    "f.close()"
   ]
  },
  {
   "cell_type": "code",
   "execution_count": null,
   "id": "bf361a49",
   "metadata": {},
   "outputs": [],
   "source": [
    "# 반복문 사용\n",
    "f=open('a.txt','r')\n",
    "while True:\n",
    "    line=f.readline()\n",
    "    # 조건\n",
    "    if not line:break\n",
    "    print(line)\n",
    "f.close()"
   ]
  },
  {
   "cell_type": "code",
   "execution_count": null,
   "id": "f17243ec",
   "metadata": {},
   "outputs": [],
   "source": [
    "# 모든 내용 읽어오기\n",
    "f=open('a.txt','r')\n",
    "print(f.readlines())\n",
    "f.close()"
   ]
  },
  {
   "cell_type": "code",
   "execution_count": null,
   "id": "74db7775",
   "metadata": {},
   "outputs": [],
   "source": [
    "# 모든 내용 읽어오기\n",
    "f=open('a.txt','r')\n",
    "l=f.readlines()\n",
    "\n",
    "for i in l:\n",
    "    print(i)\n",
    "f.close()"
   ]
  },
  {
   "cell_type": "code",
   "execution_count": 12,
   "id": "4b89f8b8",
   "metadata": {},
   "outputs": [
    {
     "name": "stdout",
     "output_type": "stream",
     "text": [
      "['.bash_history', '.bundle', '.cache', '.codetogether', '.conda', '.condarc', '.config', '.continuum', '.ctsystem', '.eclipse', '.gitconfig', '.ipynb_checkpoints', '.ipython', '.jupyter', '.lemminx', '.lesshst', '.local', '.m2', '.minttyrc', '.p2', '.tooling', '.viminfo', '.vscode', '.webclipse', '3D Objects', 'aaa.txt', 'AppData', 'Application Data', 'b.txt', 'Contacts', 'Cookies', 'Desktop', 'Documents', 'Downloads', 'ELibrary', 'Favorites', 'git', 'hsperfdata_goott4', 'IntelGraphicsProfiles', 'Links', 'Local Settings', 'mercurial.ini', 'Music', 'My Documents', 'mymodule.py', 'NetHood', 'NTUSER.DAT', 'ntuser.dat.LOG1', 'ntuser.dat.LOG2', 'NTUSER.DAT{beb04e1a-4c27-11ed-a2f5-000c29a4527b}.TM.blf', 'NTUSER.DAT{beb04e1a-4c27-11ed-a2f5-000c29a4527b}.TMContainer00000000000000000001.regtrans-ms', 'NTUSER.DAT{beb04e1a-4c27-11ed-a2f5-000c29a4527b}.TMContainer00000000000000000002.regtrans-ms', 'ntuser.ini', 'OneDrive', 'Oracle', 'Pictures', 'PrintHood', 'Recent', 'Saved Games', 'Searches', 'SendTo', 'Templates', 'Untitled.ipynb', 'Untitled1.ipynb', 'Videos', 'yes24베스트10크롤링.ipynb', '시작 메뉴', '알라딘베스트크롤링.ipynb', '파이썬001_230718.ipynb', '파이썬002_230719.ipynb', '파이썬003_230720.ipynb', '파이썬004_230721.ipynb', '파이썬005_230724.ipynb']\n"
     ]
    }
   ],
   "source": [
    "# 디렉토리 다루기\n",
    "import os\n",
    "print(os.listdir('.')) # 현재폴더의 내용물"
   ]
  },
  {
   "cell_type": "code",
   "execution_count": 13,
   "id": "088fe815",
   "metadata": {},
   "outputs": [
    {
     "name": "stdout",
     "output_type": "stream",
     "text": [
      "['All Users', 'Default', 'Default User', 'desktop.ini', 'goott4', 'Public']\n"
     ]
    }
   ],
   "source": [
    "print(os.listdir('../'))# 상위폴더의 내용물"
   ]
  },
  {
   "cell_type": "code",
   "execution_count": null,
   "id": "2fa8ccbb",
   "metadata": {},
   "outputs": [],
   "source": [
    "# 파일 이름 변경\n",
    "os.rename('a.txt','aaa.txt')\n",
    "print(os.listdir('.')) "
   ]
  },
  {
   "cell_type": "code",
   "execution_count": 14,
   "id": "38d78a39",
   "metadata": {},
   "outputs": [
    {
     "name": "stdout",
     "output_type": "stream",
     "text": [
      "True\n"
     ]
    }
   ],
   "source": [
    "# 파일의 유무 확인\n",
    "print(os.path.exists('aaa.txt'))"
   ]
  },
  {
   "cell_type": "code",
   "execution_count": 15,
   "id": "1892ec98",
   "metadata": {},
   "outputs": [
    {
     "name": "stdout",
     "output_type": "stream",
     "text": [
      "True\n",
      "C:\\Users\\goott4\\aaa.txt\n"
     ]
    }
   ],
   "source": [
    "# 파일의 경로 반환받기\n",
    "print(os.path.exists('aaa.txt'))\n",
    "print(os.path.abspath('aaa.txt'))"
   ]
  },
  {
   "cell_type": "code",
   "execution_count": 16,
   "id": "3456df43",
   "metadata": {},
   "outputs": [
    {
     "name": "stdout",
     "output_type": "stream",
     "text": [
      "aaa.txt\n",
      "C:\\Users\\goott4\n"
     ]
    }
   ],
   "source": [
    "# 파일의 이름\n",
    "# 경로의 분리\n",
    "print(os.path.basename(\"C:\\\\Users\\\\goott4\\\\aaa.txt\"))\n",
    "print(os.path.dirname(\"C:\\\\Users\\\\goott4\\\\aaa.txt\"))"
   ]
  },
  {
   "cell_type": "code",
   "execution_count": 17,
   "id": "0f3d4d4a",
   "metadata": {},
   "outputs": [
    {
     "name": "stdout",
     "output_type": "stream",
     "text": [
      "('C:\\\\Users\\\\goott4', 'aaa.txt')\n"
     ]
    }
   ],
   "source": [
    "# split 함수 사용하기\n",
    "print(os.path.split(\"C:\\\\Users\\\\goott4\\\\aaa.txt\"))"
   ]
  },
  {
   "cell_type": "code",
   "execution_count": 18,
   "id": "8836a3bc",
   "metadata": {},
   "outputs": [
    {
     "name": "stdout",
     "output_type": "stream",
     "text": [
      "('C:', '\\\\Users\\\\goott4\\\\aaa.txt')\n",
      "('C:\\\\Users\\\\goott4\\\\aaa', '.txt')\n"
     ]
    }
   ],
   "source": [
    "# 확장자 분리\n",
    "print(os.path.splitdrive(\"C:\\\\Users\\\\goott4\\\\aaa.txt\"))\n",
    "print(os.path.splitext(\"C:\\\\Users\\\\goott4\\\\aaa.txt\"))"
   ]
  },
  {
   "cell_type": "code",
   "execution_count": 19,
   "id": "1aaa3261",
   "metadata": {},
   "outputs": [
    {
     "name": "stdout",
     "output_type": "stream",
     "text": [
      "C:\\javabigsetjsp2023\\pyfolder\n"
     ]
    }
   ],
   "source": [
    "# 현재 작업 디렉토리 변경\n",
    "os.chdir(\"C:\\\\javabigsetjsp2023\\\\pyfolder\")\n",
    "print(os.getcwd())"
   ]
  },
  {
   "cell_type": "code",
   "execution_count": 20,
   "id": "49475266",
   "metadata": {},
   "outputs": [],
   "source": [
    "f=open('p.txt','w')\n",
    "f.write(\"change dir\")\n",
    "f.close()"
   ]
  },
  {
   "cell_type": "code",
   "execution_count": 21,
   "id": "80e47f1f",
   "metadata": {},
   "outputs": [
    {
     "name": "stdout",
     "output_type": "stream",
     "text": [
      "C:\\Users\\goott4\n"
     ]
    }
   ],
   "source": [
    "# 원위치 복귀\n",
    "os.chdir(\"C:\\\\Users\\\\goott4\")\n",
    "print(os.getcwd())"
   ]
  },
  {
   "cell_type": "code",
   "execution_count": 22,
   "id": "415d261e",
   "metadata": {},
   "outputs": [
    {
     "name": "stdout",
     "output_type": "stream",
     "text": [
      "True\n"
     ]
    }
   ],
   "source": [
    "# 폴더 생성\n",
    "os.mkdir('ttmp')\n",
    "print(os.path.exists('ttmp'))"
   ]
  },
  {
   "cell_type": "markdown",
   "id": "585937c7",
   "metadata": {},
   "source": [
    "# 미션 1\n",
    "- pyfolder 에 파일 myprj.txt 를 생성하고 내용 저장\n",
    "- 프로젝트 주제 간략 설명\n",
    "- 작업 폴더 현위치로 복귀"
   ]
  },
  {
   "cell_type": "code",
   "execution_count": 23,
   "id": "72362af3",
   "metadata": {
    "scrolled": true
   },
   "outputs": [
    {
     "name": "stdout",
     "output_type": "stream",
     "text": [
      "C:\\javabigsetjsp2023\\pyfolder\n",
      "C:\\Users\\goott4\n"
     ]
    }
   ],
   "source": [
    "os.chdir(\"C:\\\\javabigsetjsp2023\\\\pyfolder\")\n",
    "print(os.getcwd())\n",
    "f=open('myprj.txt','w')\n",
    "f.write(\"프로젝트 주제 : 도서 쇼핑몰\")\n",
    "f.close()\n",
    "os.chdir(\"C:\\\\Users\\\\goott4\")\n",
    "print(os.getcwd())"
   ]
  },
  {
   "cell_type": "markdown",
   "id": "06ca735f",
   "metadata": {},
   "source": [
    "### 함수\n",
    "#### def 함수명(매개변수):코드\n",
    "- 의미가 있는 코드의 집합"
   ]
  },
  {
   "cell_type": "code",
   "execution_count": 25,
   "id": "8642a818",
   "metadata": {},
   "outputs": [],
   "source": [
    "def sayHello():\n",
    "    print(\"안녕하세요\")\n",
    "    print(\"파이썬입니다.\")"
   ]
  },
  {
   "cell_type": "code",
   "execution_count": 26,
   "id": "06b16d36",
   "metadata": {},
   "outputs": [
    {
     "name": "stdout",
     "output_type": "stream",
     "text": [
      "안녕하세요\n",
      "파이썬입니다.\n"
     ]
    }
   ],
   "source": [
    "sayHello()"
   ]
  },
  {
   "cell_type": "markdown",
   "id": "a4a46fab",
   "metadata": {},
   "source": [
    "#### 아무 행동없는 함수는 pass를 사용해야한다."
   ]
  },
  {
   "cell_type": "code",
   "execution_count": 27,
   "id": "faf45826",
   "metadata": {},
   "outputs": [],
   "source": [
    "def sayHello2():\n",
    "    pass"
   ]
  },
  {
   "cell_type": "code",
   "execution_count": 28,
   "id": "a9e878b3",
   "metadata": {},
   "outputs": [],
   "source": [
    "sayHello2()"
   ]
  },
  {
   "cell_type": "markdown",
   "id": "5b4072b1",
   "metadata": {},
   "source": [
    "#### # 함수의 설명"
   ]
  },
  {
   "cell_type": "code",
   "execution_count": 30,
   "id": "e46ba8fc",
   "metadata": {},
   "outputs": [],
   "source": [
    "def Hello():\n",
    "    \"이것은 함수입니다.\"\n",
    "    print(\"안뇽\")\n",
    "    print(\"파이썬 함수입니다.\")"
   ]
  },
  {
   "cell_type": "markdown",
   "id": "2bce1ec7",
   "metadata": {},
   "source": [
    "#### 내장함수 help를 이용해서 함수의 설명을 확인한다."
   ]
  },
  {
   "cell_type": "code",
   "execution_count": 32,
   "id": "945c484a",
   "metadata": {
    "scrolled": true
   },
   "outputs": [
    {
     "name": "stdout",
     "output_type": "stream",
     "text": [
      "Help on function Hello in module __main__:\n",
      "\n",
      "Hello()\n",
      "    이것은 함수입니다.\n",
      "\n"
     ]
    }
   ],
   "source": [
    "help(Hello)"
   ]
  },
  {
   "cell_type": "markdown",
   "id": "bbe31494",
   "metadata": {},
   "source": [
    "#### 매개변수 함수"
   ]
  },
  {
   "cell_type": "code",
   "execution_count": 34,
   "id": "3a0d81d0",
   "metadata": {},
   "outputs": [],
   "source": [
    "def add(a,b):\n",
    "    print(a+b)"
   ]
  },
  {
   "cell_type": "code",
   "execution_count": 36,
   "id": "8c07430a",
   "metadata": {},
   "outputs": [
    {
     "name": "stdout",
     "output_type": "stream",
     "text": [
      "6\n"
     ]
    }
   ],
   "source": [
    "add(1,5)"
   ]
  },
  {
   "cell_type": "markdown",
   "id": "821ed5a7",
   "metadata": {},
   "source": [
    "#### 반환값 return"
   ]
  },
  {
   "cell_type": "code",
   "execution_count": 38,
   "id": "d315c39f",
   "metadata": {},
   "outputs": [],
   "source": [
    "def add1(a,b):\n",
    "    print(a+b)\n",
    "def add2(a,b):\n",
    "    return a-b"
   ]
  },
  {
   "cell_type": "code",
   "execution_count": 40,
   "id": "1908a636",
   "metadata": {},
   "outputs": [
    {
     "name": "stdout",
     "output_type": "stream",
     "text": [
      "3\n",
      "None\n"
     ]
    }
   ],
   "source": [
    "x=add1(1,2)\n",
    "print(x) # f리턴받지 않았기 때문에 none"
   ]
  },
  {
   "cell_type": "code",
   "execution_count": 42,
   "id": "9fb62b0b",
   "metadata": {},
   "outputs": [
    {
     "name": "stdout",
     "output_type": "stream",
     "text": [
      "-1\n"
     ]
    }
   ],
   "source": [
    "y=add2(1,2)\n",
    "print(y)"
   ]
  },
  {
   "cell_type": "code",
   "execution_count": 44,
   "id": "aa868e42",
   "metadata": {},
   "outputs": [],
   "source": [
    "# 두개 이상의 값을 반환\n",
    "def func(a,b):\n",
    "    return a,b"
   ]
  },
  {
   "cell_type": "code",
   "execution_count": 46,
   "id": "9c5cfe95",
   "metadata": {},
   "outputs": [
    {
     "name": "stdout",
     "output_type": "stream",
     "text": [
      "(5, 6)\n",
      "(5, 6) <class 'tuple'>\n",
      "5\n",
      "6\n"
     ]
    }
   ],
   "source": [
    "x=func(5,6)\n",
    "print(x)\n",
    "print(x,type(x))\n",
    "\n",
    "# 출력\n",
    "for i in x:\n",
    "    print(i)"
   ]
  },
  {
   "cell_type": "code",
   "execution_count": 47,
   "id": "aa5c19b0",
   "metadata": {},
   "outputs": [
    {
     "name": "stdout",
     "output_type": "stream",
     "text": [
      "('문자', ['리스트', 1])\n",
      "문자\n",
      "['리스트', 1]\n"
     ]
    }
   ],
   "source": [
    "y= func(\"문자\",['리스트',1])\n",
    "print(y)\n",
    "for i in y:\n",
    "    print(i)"
   ]
  },
  {
   "cell_type": "markdown",
   "id": "63d9a4ed",
   "metadata": {},
   "source": [
    "### 지역변수\n",
    "### 함수 내에서 만들어진 변수\n",
    "- 함수가 실행될때 생성되고 함수가 종료될 때 종료"
   ]
  },
  {
   "cell_type": "code",
   "execution_count": 48,
   "id": "93d6bceb",
   "metadata": {},
   "outputs": [
    {
     "name": "stdout",
     "output_type": "stream",
     "text": [
      "10\n",
      "20\n"
     ]
    }
   ],
   "source": [
    "def func1():\n",
    "    a=10\n",
    "    print(a)\n",
    "a=20\n",
    "func1()\n",
    "print(a)"
   ]
  },
  {
   "cell_type": "code",
   "execution_count": 50,
   "id": "e4255f5c",
   "metadata": {},
   "outputs": [],
   "source": [
    "a=10\n",
    "def func():\n",
    "    print(a)"
   ]
  },
  {
   "cell_type": "code",
   "execution_count": 52,
   "id": "3fbf1f8b",
   "metadata": {},
   "outputs": [
    {
     "name": "stdout",
     "output_type": "stream",
     "text": [
      "10\n"
     ]
    }
   ],
   "source": [
    "func()"
   ]
  },
  {
   "cell_type": "code",
   "execution_count": 54,
   "id": "9aee374a",
   "metadata": {},
   "outputs": [],
   "source": [
    "a=10\n",
    "def func():\n",
    "    b=20\n",
    "    return a+b"
   ]
  },
  {
   "cell_type": "code",
   "execution_count": 56,
   "id": "6790b209",
   "metadata": {},
   "outputs": [
    {
     "data": {
      "text/plain": [
       "30"
      ]
     },
     "execution_count": 56,
     "metadata": {},
     "output_type": "execute_result"
    }
   ],
   "source": [
    "func()"
   ]
  },
  {
   "cell_type": "markdown",
   "id": "32de1ded",
   "metadata": {},
   "source": [
    "#### global 활용하기\n",
    "- 함수 안에서 전역변수 활용하기"
   ]
  },
  {
   "cell_type": "code",
   "execution_count": 57,
   "id": "96f5c650",
   "metadata": {},
   "outputs": [
    {
     "name": "stdout",
     "output_type": "stream",
     "text": [
      "10\n",
      "20\n",
      "20\n"
     ]
    }
   ],
   "source": [
    "a=10\n",
    "print(a)\n",
    "def func():\n",
    "    global a\n",
    "    a=20\n",
    "    print(a)\n",
    "func()\n",
    "print(a)"
   ]
  },
  {
   "cell_type": "markdown",
   "id": "be7e541a",
   "metadata": {},
   "source": [
    "#### 함수의 전달값"
   ]
  },
  {
   "cell_type": "code",
   "execution_count": 58,
   "id": "442def36",
   "metadata": {},
   "outputs": [
    {
     "name": "stdout",
     "output_type": "stream",
     "text": [
      "10\n",
      "20\n",
      "10\n"
     ]
    }
   ],
   "source": [
    "a=10\n",
    "print(a)\n",
    "def func(b):\n",
    "# 값을 받아서 조작\n",
    "    b=20\n",
    "    print(b)\n",
    "func(a)\n",
    "print(a)"
   ]
  },
  {
   "cell_type": "code",
   "execution_count": 59,
   "id": "c5edc541",
   "metadata": {},
   "outputs": [
    {
     "name": "stdout",
     "output_type": "stream",
     "text": [
      "[4, 10, 6]\n",
      "[4, 10, 6]\n"
     ]
    }
   ],
   "source": [
    "# 전달받은 객체 자체의 변경이 아닌 객체요소 변경\n",
    "a=[4,5,6]\n",
    "def func(b):\n",
    "    b[1]=10\n",
    "    print(b)\n",
    "func(a)\n",
    "print(a)"
   ]
  },
  {
   "cell_type": "code",
   "execution_count": 60,
   "id": "c0726c78",
   "metadata": {},
   "outputs": [
    {
     "name": "stdout",
     "output_type": "stream",
     "text": [
      "30\n"
     ]
    }
   ],
   "source": [
    "# 기본 매개변수\n",
    "def func(a,b):\n",
    "    print(a+b)\n",
    "func(10,20)"
   ]
  },
  {
   "cell_type": "code",
   "execution_count": 61,
   "id": "8899e9b3",
   "metadata": {},
   "outputs": [
    {
     "name": "stdout",
     "output_type": "stream",
     "text": [
      "40\n"
     ]
    }
   ],
   "source": [
    "# 기본 매개변수\n",
    "def func(a,b=30):\n",
    "    print(a+b)\n",
    "func(10)# 생략됐을때기본값으로적용된다."
   ]
  },
  {
   "cell_type": "code",
   "execution_count": 62,
   "id": "9f0a573d",
   "metadata": {},
   "outputs": [
    {
     "ename": "SyntaxError",
     "evalue": "non-default argument follows default argument (3478199349.py, line 3)",
     "output_type": "error",
     "traceback": [
      "\u001b[1;36m  Cell \u001b[1;32mIn[62], line 3\u001b[1;36m\u001b[0m\n\u001b[1;33m    def func(a=10,b):\u001b[0m\n\u001b[1;37m                  ^\u001b[0m\n\u001b[1;31mSyntaxError\u001b[0m\u001b[1;31m:\u001b[0m non-default argument follows default argument\n"
     ]
    }
   ],
   "source": [
    "# 일반매개변수\n",
    "# 기본 매개변수는 일반매개변수 앞에 불가능하다.\n",
    "def func(a=10,b):\n",
    "    print(a+b)\n",
    "func(10)# 생략됐을때기본값으로적용된다."
   ]
  },
  {
   "cell_type": "code",
   "execution_count": 63,
   "id": "1be765ea",
   "metadata": {},
   "outputs": [
    {
     "name": "stdout",
     "output_type": "stream",
     "text": [
      "1\n",
      "1\n",
      "5\n"
     ]
    }
   ],
   "source": [
    "# 키워드 매개변수\n",
    "def func(a,b,c,d,e):\n",
    "    print(a+b-c-d+e)\n",
    "func(1,2,3,4,5)\n",
    "func(a=1,b=2,c=3,d=4,e=5)\n",
    "func(e=1,c=2,d=3,a=4,b=5)"
   ]
  },
  {
   "cell_type": "markdown",
   "id": "1748df51",
   "metadata": {},
   "source": [
    "#### 가변 매개변수\n",
    "- 일반 매개변수 다음에 * 매개변수로 가변인자를 전달할수있다.\n",
    "- 일반 매개변수를 제외한 나머지 매개변수는 튜플로 할당된다."
   ]
  },
  {
   "cell_type": "code",
   "execution_count": 64,
   "id": "518bc94a",
   "metadata": {},
   "outputs": [
    {
     "name": "stdout",
     "output_type": "stream",
     "text": [
      "1 ()\n",
      "1 (2, 3, 4, 5)\n",
      "1 ('a', 'b')\n"
     ]
    }
   ],
   "source": [
    "def func(a,*arg):\n",
    "    print(a,arg)\n",
    "func(1)\n",
    "func(1,2,3,4,5)\n",
    "func(1,'a','b')"
   ]
  },
  {
   "cell_type": "code",
   "execution_count": 65,
   "id": "acd9e85a",
   "metadata": {
    "scrolled": true
   },
   "outputs": [
    {
     "name": "stdout",
     "output_type": "stream",
     "text": [
      "\n",
      " 1 ()\n",
      "sub :  2\tsub :  3\tsub :  4\tsub :  5\t\n",
      " 1 (2, 3, 4, 5)\n",
      "sub :  a\tsub :  b\t\n",
      " 1 ('a', 'b')\n"
     ]
    }
   ],
   "source": [
    "def func(a,*arg):\n",
    "    for i in arg:\n",
    "        print(\"sub : \",i,end=\"\\t\")\n",
    "    print('\\n',a,arg)\n",
    "func(1)\n",
    "func(1,2,3,4,5)\n",
    "func(1,'a','b')"
   ]
  },
  {
   "cell_type": "markdown",
   "id": "ccaf5c6d",
   "metadata": {},
   "source": [
    "### 재귀함수\n",
    "- 자기가 자기 자신을 호출하는 함수\n",
    "- 종료 조건이 필요함"
   ]
  },
  {
   "cell_type": "code",
   "execution_count": 10,
   "id": "f2e0c189",
   "metadata": {},
   "outputs": [
    {
     "name": "stdout",
     "output_type": "stream",
     "text": [
      "1\n",
      "2\n",
      "3\n",
      "4\n",
      "5\n",
      "6\n",
      "7\n",
      "8\n",
      "9\n",
      "10\n"
     ]
    }
   ],
   "source": [
    "def recursive(num):\n",
    "    print(num)\n",
    "    # 종료 조건\n",
    "    if num==10:\n",
    "        return\n",
    "    num+=1\n",
    "    recursive(num)\n",
    "recursive(1)"
   ]
  },
  {
   "cell_type": "code",
   "execution_count": 11,
   "id": "0ef14ad9",
   "metadata": {},
   "outputs": [
    {
     "name": "stdout",
     "output_type": "stream",
     "text": [
      "5*4*3*2*1*0*= 120\n"
     ]
    }
   ],
   "source": [
    "# 팩토리얼\n",
    "# !\n",
    "# 5! 5*4*3*2*1\n",
    "# 5*fac(5-1)\n",
    "# 5*4*fac(4-1)\n",
    "# 5*4*3*fac(3-1)\n",
    "def factorial(n):\n",
    "    print(n,end=\"*\")\n",
    "    if n==0:\n",
    "        return 1\n",
    "    return n*factorial(n-1)\n",
    "print(\"=\",factorial(5))"
   ]
  },
  {
   "cell_type": "markdown",
   "id": "3058a87c",
   "metadata": {},
   "source": [
    "# 미션 1\n",
    "- 함수(calculator) 매개변수를 사용해서\n",
    "- +-* / 연산 실행"
   ]
  },
  {
   "cell_type": "code",
   "execution_count": null,
   "id": "64160c4a",
   "metadata": {},
   "outputs": [],
   "source": [
    "def calculator(num1, num2, request):\n",
    "    num1 = int(num1)\n",
    "    num2 = int(num2)\n",
    "    \n",
    "    \n",
    "    if request == 0:\n",
    "        answer = num1 + num2\n",
    "    elif request == 1:\n",
    "        answer = num1 - num2\n",
    "    elif request == 2:\n",
    "        answer = num1 * num2\n",
    "    elif request == 3:\n",
    "        answer = num1 / num2\n",
    "    else:\n",
    "        answer = '원하는 연산을 확인해주시고 다시 실행해주세요.'\n",
    "    \n",
    "    \n",
    "    return answer"
   ]
  },
  {
   "cell_type": "code",
   "execution_count": null,
   "id": "1d359265",
   "metadata": {},
   "outputs": [],
   "source": [
    "calculator(6,2,2)"
   ]
  },
  {
   "cell_type": "markdown",
   "id": "c71b426b",
   "metadata": {},
   "source": [
    "# 미션2\n",
    "- 가변 매개변수 활용 구구단에서 필요한 단을 전달하고 출력되도록"
   ]
  },
  {
   "cell_type": "code",
   "execution_count": 7,
   "id": "7875fa0d",
   "metadata": {
    "scrolled": true
   },
   "outputs": [
    {
     "name": "stdout",
     "output_type": "stream",
     "text": [
      "단수입력 : 4\n",
      "4 단\n",
      "4 * 1 = 4\n",
      "4 * 2 = 8\n",
      "4 * 3 = 12\n",
      "4 * 4 = 16\n",
      "4 * 5 = 20\n",
      "4 * 6 = 24\n",
      "4 * 7 = 28\n",
      "4 * 8 = 32\n"
     ]
    }
   ],
   "source": [
    "dan = int(input(\"단수입력 : \"))\n",
    "print(dan,'단')\n",
    "for i in range(1, 9):\n",
    "    print('{} * {} = {}'.format(dan, i, dan*i) )"
   ]
  },
  {
   "cell_type": "code",
   "execution_count": 8,
   "id": "ced07261",
   "metadata": {},
   "outputs": [],
   "source": [
    "def gugu(*a):\n",
    "    for i in range(len(a)):\n",
    "        print(a[i],'단')\n",
    "        for j in range(1,10):\n",
    "            print('{} * {} = {}'.format(a[i], j, a[i]*j) )\n",
    "        print"
   ]
  },
  {
   "cell_type": "code",
   "execution_count": 9,
   "id": "0758a37a",
   "metadata": {
    "scrolled": false
   },
   "outputs": [
    {
     "name": "stdout",
     "output_type": "stream",
     "text": [
      "2 단\n",
      "2 * 1 = 2\n",
      "2 * 2 = 4\n",
      "2 * 3 = 6\n",
      "2 * 4 = 8\n",
      "2 * 5 = 10\n",
      "2 * 6 = 12\n",
      "2 * 7 = 14\n",
      "2 * 8 = 16\n",
      "2 * 9 = 18\n",
      "1 단\n",
      "1 * 1 = 1\n",
      "1 * 2 = 2\n",
      "1 * 3 = 3\n",
      "1 * 4 = 4\n",
      "1 * 5 = 5\n",
      "1 * 6 = 6\n",
      "1 * 7 = 7\n",
      "1 * 8 = 8\n",
      "1 * 9 = 9\n",
      "5 단\n",
      "5 * 1 = 5\n",
      "5 * 2 = 10\n",
      "5 * 3 = 15\n",
      "5 * 4 = 20\n",
      "5 * 5 = 25\n",
      "5 * 6 = 30\n",
      "5 * 7 = 35\n",
      "5 * 8 = 40\n",
      "5 * 9 = 45\n"
     ]
    }
   ],
   "source": [
    "gugu(2,1,5)"
   ]
  },
  {
   "cell_type": "markdown",
   "id": "3730db8e",
   "metadata": {},
   "source": [
    "### 모듈\n",
    "- 파이썬 코드를 논리적으로 묶어서 사용할수있도록하는파일"
   ]
  },
  {
   "cell_type": "code",
   "execution_count": null,
   "id": "3bfe3cfe",
   "metadata": {},
   "outputs": [],
   "source": [
    "import keyword\n",
    "print(keyword.kwlist)"
   ]
  },
  {
   "cell_type": "code",
   "execution_count": null,
   "id": "1ddbc904",
   "metadata": {},
   "outputs": [],
   "source": [
    "# 알리아싱 사용\n",
    "import keyword as k\n",
    "print(k.kwlist)"
   ]
  },
  {
   "cell_type": "markdown",
   "id": "e0692892",
   "metadata": {},
   "source": [
    "### 함수와 모듈의 차이\n",
    "- 함수 : 파일 내에서 특정한 동작을 수행하는 코드 뭉치\n",
    "- 모듈 : 파일 단위로 묶여있는 코드 뭉치"
   ]
  },
  {
   "cell_type": "code",
   "execution_count": 1,
   "id": "e99225d9",
   "metadata": {},
   "outputs": [
    {
     "name": "stdout",
     "output_type": "stream",
     "text": [
      "C:\\ProgramData\\anaconda3\\Lib\\keyword.py\n",
      "C:\\Users\\goott4\n"
     ]
    }
   ],
   "source": [
    "# 아나콘다 모듈 확인\n",
    "import keyword\n",
    "print(keyword.__file__)\n",
    "import os\n",
    "print(os.getcwd())"
   ]
  },
  {
   "cell_type": "code",
   "execution_count": 2,
   "id": "cc9e275d",
   "metadata": {},
   "outputs": [
    {
     "name": "stdout",
     "output_type": "stream",
     "text": [
      "time.struct_time(tm_year=2023, tm_mon=7, tm_mday=25, tm_hour=11, tm_min=16, tm_sec=8, tm_wday=1, tm_yday=206, tm_isdst=0)\n",
      "time.struct_time(tm_year=2023, tm_mon=7, tm_mday=25, tm_hour=11, tm_min=16, tm_sec=9, tm_wday=1, tm_yday=206, tm_isdst=0)\n"
     ]
    }
   ],
   "source": [
    "# time 모듈\n",
    "import time\n",
    "print(time.localtime())\n",
    "time.sleep(1)\n",
    "print(time.localtime())"
   ]
  },
  {
   "cell_type": "code",
   "execution_count": 3,
   "id": "34f5c77f",
   "metadata": {},
   "outputs": [
    {
     "name": "stdout",
     "output_type": "stream",
     "text": [
      "0.46130830303062087\n",
      "2\n"
     ]
    }
   ],
   "source": [
    "import random\n",
    "print(random.random())\n",
    "print(random.randint(1,5))"
   ]
  },
  {
   "cell_type": "code",
   "execution_count": 4,
   "id": "7b2f8603",
   "metadata": {},
   "outputs": [
    {
     "name": "stdout",
     "output_type": "stream",
     "text": [
      "3.141592653589793\n",
      "120\n"
     ]
    }
   ],
   "source": [
    "import math\n",
    "print(math.pi)\n",
    "print(math.factorial(5))"
   ]
  },
  {
   "cell_type": "code",
   "execution_count": 5,
   "id": "2bb2fefd",
   "metadata": {
    "scrolled": true
   },
   "outputs": [
    {
     "data": {
      "text/plain": [
       "'                                  2023\\n\\n      January                   February                   March\\nMo Tu We Th Fr Sa Su      Mo Tu We Th Fr Sa Su      Mo Tu We Th Fr Sa Su\\n                   1             1  2  3  4  5             1  2  3  4  5\\n 2  3  4  5  6  7  8       6  7  8  9 10 11 12       6  7  8  9 10 11 12\\n 9 10 11 12 13 14 15      13 14 15 16 17 18 19      13 14 15 16 17 18 19\\n16 17 18 19 20 21 22      20 21 22 23 24 25 26      20 21 22 23 24 25 26\\n23 24 25 26 27 28 29      27 28                     27 28 29 30 31\\n30 31\\n\\n       April                      May                       June\\nMo Tu We Th Fr Sa Su      Mo Tu We Th Fr Sa Su      Mo Tu We Th Fr Sa Su\\n                1  2       1  2  3  4  5  6  7                1  2  3  4\\n 3  4  5  6  7  8  9       8  9 10 11 12 13 14       5  6  7  8  9 10 11\\n10 11 12 13 14 15 16      15 16 17 18 19 20 21      12 13 14 15 16 17 18\\n17 18 19 20 21 22 23      22 23 24 25 26 27 28      19 20 21 22 23 24 25\\n24 25 26 27 28 29 30      29 30 31                  26 27 28 29 30\\n\\n        July                     August                  September\\nMo Tu We Th Fr Sa Su      Mo Tu We Th Fr Sa Su      Mo Tu We Th Fr Sa Su\\n                1  2          1  2  3  4  5  6                   1  2  3\\n 3  4  5  6  7  8  9       7  8  9 10 11 12 13       4  5  6  7  8  9 10\\n10 11 12 13 14 15 16      14 15 16 17 18 19 20      11 12 13 14 15 16 17\\n17 18 19 20 21 22 23      21 22 23 24 25 26 27      18 19 20 21 22 23 24\\n24 25 26 27 28 29 30      28 29 30 31               25 26 27 28 29 30\\n31\\n\\n      October                   November                  December\\nMo Tu We Th Fr Sa Su      Mo Tu We Th Fr Sa Su      Mo Tu We Th Fr Sa Su\\n                   1             1  2  3  4  5                   1  2  3\\n 2  3  4  5  6  7  8       6  7  8  9 10 11 12       4  5  6  7  8  9 10\\n 9 10 11 12 13 14 15      13 14 15 16 17 18 19      11 12 13 14 15 16 17\\n16 17 18 19 20 21 22      20 21 22 23 24 25 26      18 19 20 21 22 23 24\\n23 24 25 26 27 28 29      27 28 29 30               25 26 27 28 29 30 31\\n30 31\\n'"
      ]
     },
     "execution_count": 5,
     "metadata": {},
     "output_type": "execute_result"
    }
   ],
   "source": [
    "import calendar\n",
    "calendar.calendar(2023)"
   ]
  },
  {
   "cell_type": "markdown",
   "id": "30352f5f",
   "metadata": {},
   "source": [
    "### 모듈 생성 사용\n",
    "- C:\\ProgramData\\anaconda3\\Lib\\ 안에 mymodule.py 생성 후 아래 내용 작성\n",
    "----\n",
    "```\n",
    "print(\"이 파일은 모듈 테스트용 파일입니다.\")\n",
    "def add(a,b):\n",
    "    return a+b\n",
    "def sub(a,b):\n",
    "    return a-b\n",
    "pi=5.14\n",
    "print(__name__)\n",
    "if __name__==\"__main__\":\n",
    "    print(\"메인일때 출력되는 문장\")\n",
    "    print(add(pi,3))\n",
    "```"
   ]
  },
  {
   "cell_type": "code",
   "execution_count": 66,
   "id": "6dc6cc9d",
   "metadata": {
    "scrolled": true
   },
   "outputs": [
    {
     "name": "stdout",
     "output_type": "stream",
     "text": [
      "이 파일은 모듈 테스트용 파일입니다.\n",
      "mymodule\n",
      "8\n",
      "2\n"
     ]
    }
   ],
   "source": [
    "\n",
    "import mymodule\n",
    "print(mymodule.add(5,3))\n",
    "print(mymodule.sub(5,3))"
   ]
  },
  {
   "cell_type": "code",
   "execution_count": 67,
   "id": "e2df01af",
   "metadata": {},
   "outputs": [
    {
     "name": "stdout",
     "output_type": "stream",
     "text": [
      "3.141592653589793\n",
      "5.14\n"
     ]
    }
   ],
   "source": [
    "import math\n",
    "import mymodule\n",
    "print(math.pi)\n",
    "print(mymodule.pi)"
   ]
  },
  {
   "cell_type": "code",
   "execution_count": 68,
   "id": "eca6f3dd",
   "metadata": {},
   "outputs": [],
   "source": [
    "import mymodule"
   ]
  },
  {
   "cell_type": "markdown",
   "id": "9937579a",
   "metadata": {},
   "source": [
    "- (base) C:\\Users\\goott4>python mymodule.py 로 실행하면 메인이 실행되고 \n",
    "- import mymodule 모듈로 사용될때는 메인이 무시된다."
   ]
  },
  {
   "cell_type": "markdown",
   "id": "cb463fd3",
   "metadata": {},
   "source": [
    "## 미션1\n",
    "- random 모듈 활용 1~45까지 임의 숫자 6개 출력\n",
    "## 미션2\n",
    "- 로또 번호 생성"
   ]
  },
  {
   "cell_type": "code",
   "execution_count": 3,
   "id": "cb429074",
   "metadata": {},
   "outputs": [
    {
     "name": "stdout",
     "output_type": "stream",
     "text": [
      "[28, 21, 36, 16, 42, 38]\n",
      "[15, 23, 11, 41, 26]\n"
     ]
    }
   ],
   "source": [
    "import random as r\n",
    "result = []\n",
    "while len(result) < 6:\n",
    "    num = r.randint(1, 45)\n",
    "    if num not in result:\n",
    "        result.append(num)\n",
    "\n",
    "print(result)\n",
    "\n",
    "# 로또 번호 생성\n",
    "l=[]\n",
    "for i in range(6):\n",
    "    tmp=r.randint(1,45)\n",
    "    # 중복이 없을 때 까지 돌리기\n",
    "    if tmp not in l:\n",
    "        l.append(tmp)\n",
    "print(l)"
   ]
  },
  {
   "cell_type": "code",
   "execution_count": 5,
   "id": "f00dbeb3",
   "metadata": {
    "scrolled": true
   },
   "outputs": [
    {
     "name": "stdout",
     "output_type": "stream",
     "text": [
      "True\n",
      "False\n"
     ]
    }
   ],
   "source": [
    "l=[1,2,3]\n",
    "print(3 in l)\n",
    "print(5 in l)"
   ]
  },
  {
   "cell_type": "code",
   "execution_count": 13,
   "id": "32870769",
   "metadata": {},
   "outputs": [
    {
     "name": "stdout",
     "output_type": "stream",
     "text": [
      "[16, 28, 37, 38, 39, 43]\n"
     ]
    }
   ],
   "source": [
    "# 로또 번호 생성\n",
    "l=[]\n",
    "for i in range(6):\n",
    "    tmp=r.randint(1,45)\n",
    "    # 리스트에 tmp 값이 있으면 true\n",
    "    while tmp in l:# 중복된값이 있으면 다시 추출 중복된값이없을때까지 추출\n",
    "        tmp=r.randint(1,45) \n",
    "    l.append(tmp)\n",
    "l.sort()\n",
    "print(l)"
   ]
  }
 ],
 "metadata": {
  "kernelspec": {
   "display_name": "Python 3 (ipykernel)",
   "language": "python",
   "name": "python3"
  },
  "language_info": {
   "codemirror_mode": {
    "name": "ipython",
    "version": 3
   },
   "file_extension": ".py",
   "mimetype": "text/x-python",
   "name": "python",
   "nbconvert_exporter": "python",
   "pygments_lexer": "ipython3",
   "version": "3.11.3"
  }
 },
 "nbformat": 4,
 "nbformat_minor": 5
}

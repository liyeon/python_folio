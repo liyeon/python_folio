{
 "cells": [
  {
   "cell_type": "markdown",
   "id": "bcd4ad58",
   "metadata": {},
   "source": [
    "## 외부모듈\n",
    "### 대표적인 외부모듈\n",
    "- 데이터 분석 : numpy, pandas, matplotlib...\n",
    "- 인공지능 - tensorflow, pytorch, keras ....\n",
    "- 웹 크롤링 - beautifulsoup, urlopen, ... \n",
    ">위를 사용하려면 install을 시켜줘야한다.  \n",
    ">* __콘솔창__ 에서는 pip install pandas  \n",
    ">* __주피터 노트북__ 에서는 !pip install pandas\n"
   ]
  },
  {
   "cell_type": "code",
   "execution_count": null,
   "id": "a592a5ea",
   "metadata": {},
   "outputs": [],
   "source": [
    "!pip install pandas"
   ]
  },
  {
   "cell_type": "markdown",
   "id": "9bc5e09f",
   "metadata": {},
   "source": [
    "- https://www.seoul.go.kr/freeboard/freeboard.do#list/1"
   ]
  },
  {
   "cell_type": "code",
   "execution_count": null,
   "id": "89dcb4d5",
   "metadata": {},
   "outputs": [],
   "source": [
    "!pip install bs4"
   ]
  },
  {
   "cell_type": "code",
   "execution_count": null,
   "id": "47fcaca2",
   "metadata": {},
   "outputs": [],
   "source": [
    "from bs4 import BeautifulSoup"
   ]
  },
  {
   "cell_type": "code",
   "execution_count": null,
   "id": "8d4bec31",
   "metadata": {},
   "outputs": [],
   "source": [
    "from urllib.request import urlopen\n",
    "import urllib.parse"
   ]
  },
  {
   "cell_type": "code",
   "execution_count": null,
   "id": "cdb76d57",
   "metadata": {},
   "outputs": [],
   "source": [
    "url='https://www.seoul.go.kr/freeboard/freeboard.do#list/1'\n",
    "html=urlopen(url)\n",
    "data=BeautifulSoup(html,'html.parser')\n",
    "print(data)"
   ]
  },
  {
   "cell_type": "code",
   "execution_count": null,
   "id": "c6c1d852",
   "metadata": {},
   "outputs": [],
   "source": [
    "# html 타이틀 가져오기\n",
    "print(data.head.title.string)"
   ]
  },
  {
   "cell_type": "code",
   "execution_count": null,
   "id": "569be787",
   "metadata": {},
   "outputs": [],
   "source": [
    "listdata=data.select('nav.gnb ul li')\n",
    "# print(listdata)\n",
    "for dom in listdata:\n",
    "    print(dom.string)"
   ]
  },
  {
   "cell_type": "code",
   "execution_count": null,
   "id": "81ef1f53",
   "metadata": {},
   "outputs": [],
   "source": [
    "from bs4 import BeautifulSoup\n",
    "from urllib.request import urlopen\n",
    "import urllib.parse\n",
    "url='https://tomcat.apache.org/download-80.cgi'\n",
    "html=urlopen(url)\n",
    "data=BeautifulSoup(html,'html.parser')\n",
    "print(data)"
   ]
  },
  {
   "cell_type": "code",
   "execution_count": null,
   "id": "580a53e0",
   "metadata": {},
   "outputs": [],
   "source": [
    "# html 타이틀 가져오기\n",
    "print(data.head.title.string)"
   ]
  },
  {
   "cell_type": "code",
   "execution_count": null,
   "id": "99e540b1",
   "metadata": {},
   "outputs": [],
   "source": [
    "listdata=data.select('nav ul li')\n",
    "# print(listdata)\n",
    "for dom in listdata:\n",
    "    print(dom.string)"
   ]
  },
  {
   "cell_type": "markdown",
   "id": "a4259938",
   "metadata": {},
   "source": [
    "# 객체 클래스\n",
    "- 객체지향 ( object oriented programming )"
   ]
  },
  {
   "cell_type": "code",
   "execution_count": 1,
   "id": "fb046176",
   "metadata": {
    "scrolled": true
   },
   "outputs": [
    {
     "name": "stdout",
     "output_type": "stream",
     "text": [
      "{'student_name': '김학생1', 'student_number': '1001', 'student_age': 21}\n",
      "{'student_name': '김학생2', 'student_number': '1002', 'student_age': 22}\n",
      "{'student_name': '김학생3', 'student_number': '1003', 'student_age': 23}\n",
      "22.0\n"
     ]
    }
   ],
   "source": [
    "# 학생 관리 프로그램 작성\n",
    "# student_name1='김학생1'\n",
    "# student_number1='1001'\n",
    "# student_age1=21\n",
    "\n",
    "# student_name2='김학생2'\n",
    "# student_number2='1002'\n",
    "# student_age2=22\n",
    "\n",
    "# student_name3='김학생3'\n",
    "# student_number3='1003'\n",
    "# student_age3=23\n",
    "\n",
    "# 리스트로 표현\n",
    "students=[\n",
    "    {'student_name': '김학생1', 'student_number': '1001', 'student_age': 21},\n",
    "    {'student_name': '김학생2', 'student_number': '1002', 'student_age': 22},\n",
    "    {'student_name': '김학생3', 'student_number': '1003', 'student_age': 23}\n",
    "]\n",
    "age_sum=0\n",
    "for student in students:\n",
    "    print(student)\n",
    "    age_sum+=student['student_age']\n",
    "print(int(age_sum)/len(students))"
   ]
  },
  {
   "cell_type": "markdown",
   "id": "ddaba7a3",
   "metadata": {},
   "source": [
    "> 위의 내용을 더 효율적으로 관리하려면 __class__ 가 필요하다.\n",
    "```\n",
    "    class 클래스 이름:\n",
    "        클래스 내용\n",
    "```\n",
    "- 인스턴스 생성\n",
    "- 인스턴스는 별도의 이름공간을 할당한다."
   ]
  },
  {
   "cell_type": "code",
   "execution_count": 2,
   "id": "792f95f7",
   "metadata": {},
   "outputs": [
    {
     "name": "stdout",
     "output_type": "stream",
     "text": [
      "10\n",
      "100\n"
     ]
    }
   ],
   "source": [
    "# 인스턴스 생성\n",
    "class Simple_Class:\n",
    "    pass\n",
    "c1=Simple_Class()\n",
    "c1.a=10\n",
    "print(c1.a)\n",
    "c2=Simple_Class()\n",
    "c2.a=100\n",
    "print(c2.a)"
   ]
  },
  {
   "cell_type": "code",
   "execution_count": 3,
   "id": "6d619e9a",
   "metadata": {},
   "outputs": [
    {
     "name": "stdout",
     "output_type": "stream",
     "text": [
      "S1 :  1\n",
      "x.a 1\n",
      "=================\n",
      "a :  0\n",
      "x.a :  10\n",
      "S1.a :  1\n"
     ]
    }
   ],
   "source": [
    "a=0\n",
    "class S1:\n",
    "    a=1\n",
    "print('S1 : ', S1.a)\n",
    "x=S1() # 객체 생성\n",
    "print('x.a',x.a)\n",
    "x.a=10\n",
    "print('=================')\n",
    "print('a : ',a)\n",
    "print('x.a : ',x.a)\n",
    "print('S1.a : ',S1.a)"
   ]
  },
  {
   "cell_type": "markdown",
   "id": "71ef9c69",
   "metadata": {},
   "source": [
    "### self 인자 활용"
   ]
  },
  {
   "cell_type": "code",
   "execution_count": 4,
   "id": "89e4993a",
   "metadata": {},
   "outputs": [],
   "source": [
    "class MyClass:\n",
    "    def class_set(self,v):\n",
    "        self.value=v\n",
    "    def class_get(self):\n",
    "        return self.value"
   ]
  },
  {
   "cell_type": "markdown",
   "id": "2f18e720",
   "metadata": {},
   "source": [
    "- 인스턴스 객체 활용 메소드 호출"
   ]
  },
  {
   "cell_type": "code",
   "execution_count": 5,
   "id": "c7d9c3e0",
   "metadata": {},
   "outputs": [
    {
     "name": "stdout",
     "output_type": "stream",
     "text": [
      "10\n"
     ]
    }
   ],
   "source": [
    "c=MyClass()\n",
    "c.class_set('10')\n",
    "print(c.class_get())# self 생략 가능"
   ]
  },
  {
   "cell_type": "code",
   "execution_count": 6,
   "id": "e34e4144",
   "metadata": {},
   "outputs": [
    {
     "name": "stdout",
     "output_type": "stream",
     "text": [
      "100\n"
     ]
    }
   ],
   "source": [
    "# 클래스 객체를 활용해서 메소드 호출하기\n",
    "MyClass.class_set(c,'100')\n",
    "print(MyClass.class_get(c))# 직접 인스턴스 맵핑"
   ]
  },
  {
   "cell_type": "code",
   "execution_count": 7,
   "id": "22f88174",
   "metadata": {},
   "outputs": [
    {
     "name": "stdout",
     "output_type": "stream",
     "text": [
      "instance method 1 2\n",
      "instance method 1 2\n"
     ]
    }
   ],
   "source": [
    "class C:\n",
    "    def ham(self,x,y):\n",
    "        print(\"instance method\",x,y)\n",
    "c=C()\n",
    "# 인스턴스로 접근하기\n",
    "c.ham(1,2)\n",
    "\n",
    "# 직접 접근하기\n",
    "C.ham(c,1,2)"
   ]
  },
  {
   "cell_type": "code",
   "execution_count": 8,
   "id": "fee239c1",
   "metadata": {},
   "outputs": [
    {
     "name": "stdout",
     "output_type": "stream",
     "text": [
      "static method 1 2\n",
      "static method 3 4\n"
     ]
    }
   ],
   "source": [
    "# @staticmethod 활용\n",
    "class D:\n",
    "    @staticmethod\n",
    "    def sham(x,y):\n",
    "        print(\"static method\",x,y)\n",
    "# 인스턴스 없이 직접 호출\n",
    "D.sham(1,2)\n",
    "\n",
    "d=D()\n",
    "d.sham(3,4)"
   ]
  },
  {
   "cell_type": "markdown",
   "id": "e82f923f",
   "metadata": {},
   "source": [
    "# 클래스 멤버\n",
    "- 클래스 공간에서의 공유공간 ex) 자바에서의 필드"
   ]
  },
  {
   "cell_type": "code",
   "execution_count": 9,
   "id": "aba31864",
   "metadata": {},
   "outputs": [],
   "source": [
    "class Var:\n",
    "    # 클래스 멤버 - 클래스 공간에서의 공유공간 ex) 자바에서의 필드\n",
    "    c_mem=100\n",
    "    def f(self):\n",
    "        self.i_mem=200"
   ]
  },
  {
   "cell_type": "code",
   "execution_count": 10,
   "id": "80d7a7f6",
   "metadata": {},
   "outputs": [
    {
     "name": "stdout",
     "output_type": "stream",
     "text": [
      "100\n",
      "100\n",
      "100\n",
      "=============\n",
      "100\n",
      "50\n",
      "100\n"
     ]
    }
   ],
   "source": [
    "v1=Var()\n",
    "v2=Var()\n",
    "print(Var.c_mem)\n",
    "print(v1.c_mem)\n",
    "print(v2.c_mem)\n",
    "print(\"=============\")\n",
    "v1.c_mem=50\n",
    "print(Var.c_mem)\n",
    "print(v1.c_mem)\n",
    "print(v2.c_mem)"
   ]
  },
  {
   "cell_type": "code",
   "execution_count": 11,
   "id": "3d0f9de3",
   "metadata": {},
   "outputs": [
    {
     "name": "stdout",
     "output_type": "stream",
     "text": [
      "200\n"
     ]
    },
    {
     "ename": "AttributeError",
     "evalue": "'Var' object has no attribute 'i_mem'",
     "output_type": "error",
     "traceback": [
      "\u001b[1;31m---------------------------------------------------------------------------\u001b[0m",
      "\u001b[1;31mAttributeError\u001b[0m                            Traceback (most recent call last)",
      "Cell \u001b[1;32mIn[11], line 5\u001b[0m\n\u001b[0;32m      3\u001b[0m v1\u001b[38;5;241m.\u001b[39mf()\n\u001b[0;32m      4\u001b[0m \u001b[38;5;28mprint\u001b[39m(v1\u001b[38;5;241m.\u001b[39mi_mem)\n\u001b[1;32m----> 5\u001b[0m \u001b[38;5;28mprint\u001b[39m(v2\u001b[38;5;241m.\u001b[39mi_mem)\n",
      "\u001b[1;31mAttributeError\u001b[0m: 'Var' object has no attribute 'i_mem'"
     ]
    }
   ],
   "source": [
    "v1=Var()\n",
    "v2=Var()\n",
    "v1.f()\n",
    "print(v1.i_mem)\n",
    "print(v2.i_mem) # v2에서는 f 메소드를 생성해주지않았기때문에 오류"
   ]
  },
  {
   "cell_type": "markdown",
   "id": "fa6dd1ee",
   "metadata": {},
   "source": [
    "# 생성자와 소멸자\n",
    ">생성자 : 객체가 생성될 때 호출되는 함수  `__init__` 로 정의  \n",
    ">소멸자 : 객체가 소멸될 때 호출되는 함수 `__del__` 로 정의\n",
    "> - 스페셜 메소드, 매직메소드 라고도 부른다."
   ]
  },
  {
   "cell_type": "code",
   "execution_count": 5,
   "id": "d2733cfe",
   "metadata": {},
   "outputs": [],
   "source": [
    "class MyClass:\n",
    "    def __init__(self):\n",
    "        self.name=\"MyClass\"\n",
    "        print('클래스가 생성되었습니다.',self.name)\n",
    "    def __del__(self):\n",
    "        print(\"클래스가 소멸되었습니다.\")"
   ]
  },
  {
   "cell_type": "code",
   "execution_count": 6,
   "id": "2f8287b2",
   "metadata": {},
   "outputs": [
    {
     "name": "stdout",
     "output_type": "stream",
     "text": [
      "클래스가 생성되었습니다. MyClass\n"
     ]
    }
   ],
   "source": [
    "c=MyClass()"
   ]
  },
  {
   "cell_type": "code",
   "execution_count": 7,
   "id": "4ae0531f",
   "metadata": {},
   "outputs": [
    {
     "name": "stdout",
     "output_type": "stream",
     "text": [
      "클래스가 소멸되었습니다.\n"
     ]
    }
   ],
   "source": [
    "del(c)"
   ]
  },
  {
   "cell_type": "markdown",
   "id": "7c0081bc",
   "metadata": {},
   "source": [
    "# 미션 1\n",
    "- time 모듈을 활용 클래스 생성자와 소멸자 시간 출력하기"
   ]
  },
  {
   "cell_type": "code",
   "execution_count": 12,
   "id": "050000f4",
   "metadata": {},
   "outputs": [],
   "source": [
    "from time import ctime,sleep\n",
    "class Life:\n",
    "    def __init__(self):\n",
    "        self.birth=ctime()\n",
    "        print(\"BirthDay : \",self.birth)\n",
    "    def __del__(self):\n",
    "        print(\"DropDay : \",ctime())\n",
    "\n",
    "def test():\n",
    "    mylife=Life()\n",
    "    print('sleep 3 second zzzzzzzzzzz')\n",
    "    sleep(3)"
   ]
  },
  {
   "cell_type": "code",
   "execution_count": 13,
   "id": "0c04799c",
   "metadata": {},
   "outputs": [
    {
     "name": "stdout",
     "output_type": "stream",
     "text": [
      "BirthDay :  Mon Jul 24 12:42:49 2023\n",
      "sleep 3 second zzzzzzzzzzz\n",
      "DropDay :  Mon Jul 24 12:42:52 2023\n"
     ]
    }
   ],
   "source": [
    "test()"
   ]
  }
 ],
 "metadata": {
  "kernelspec": {
   "display_name": "Python 3 (ipykernel)",
   "language": "python",
   "name": "python3"
  },
  "language_info": {
   "codemirror_mode": {
    "name": "ipython",
    "version": 3
   },
   "file_extension": ".py",
   "mimetype": "text/x-python",
   "name": "python",
   "nbconvert_exporter": "python",
   "pygments_lexer": "ipython3",
   "version": "3.11.3"
  }
 },
 "nbformat": 4,
 "nbformat_minor": 5
}

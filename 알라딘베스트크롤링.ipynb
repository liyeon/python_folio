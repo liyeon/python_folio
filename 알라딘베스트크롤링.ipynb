{
 "cells": [
  {
   "cell_type": "code",
   "execution_count": 4,
   "id": "08082ff0",
   "metadata": {},
   "outputs": [
    {
     "name": "stdout",
     "output_type": "stream",
     "text": [
      "1. [국내도서] 나의 히어로 아카데미아 38 (한정판) \n",
      "2. [국내도서] 스튜디오 지브리 입체건축전 도록 (복각판)  \n",
      "3. [국내도서] 문과 남자의 과학 공부  \n",
      "4. [국내도서] 아기 판다 푸바오 \n",
      "5. [국내도서] 세이노의 가르침 \n",
      "6. [국내도서] 스카치가 있어 즐거운 세상 \n",
      "7. [국내도서] 도둑맞은 집중력  \n",
      "8. [국내도서] 최적의 공부 뇌  \n",
      "9. [국내도서] 최소한의 한국사 \n",
      "10. [국내도서] 2023 큰별쌤 최태성의 별★별한국사 한국사능력검정시험 심화(1, 2, 3급) 상 ㅣ 큰별쌤 최태성의 별★별한국사 한국사능력검정시험 시리즈  \n",
      "11. [국내도서] 명탐정의 제물 \n",
      "12. [국내도서] 역행자 확장판 \n",
      "13. [국내도서] 꿀벌의 예언 1 \n",
      "14. 최태성 (지은이) | 이투스북 | 2022년 12월\n",
      "15. [국내도서] 나는 앞으로 몇 번의 보름달을 볼 수 있을까 \n",
      "16. [국내도서] 이상한 과자 가게 전천당 18 ㅣ 이상한 과자 가게 전천당 18 \n",
      "17. [국내도서] ETS 토익 정기시험 기출문제집 1000 Vol. 3 Reading (리딩) ㅣ ETS 토익 정기시험 기출문제집  \n",
      "18. [국내도서] 나니아 연대기 (리커버 특별판) \n",
      "19. [국내도서] 순도 100퍼센트의 휴식 \n",
      "20. [국내도서] 비가 오면 열리는 상점 \n",
      "21. David Cho (지은이) | 해커스어학연구소(Hackers) | 2019년 1월\n",
      "22. [국내도서] ETS 토익 정기시험 기출문제집 1000 Vol. 3 Listening (리스닝) ㅣ ETS 토익 정기시험 기출문제집  \n",
      "23. [국내도서] 흔한남매 과학 탐험대 8 : 생물 2 ㅣ 흔한남매 과학 탐험대 8 \n",
      "24. [국내도서] 꿀벌의 예언 2 \n",
      "25. [국내도서] 그대들, 어떻게 살 것인가 \n",
      "26. 김재우 (지은이) | 상상스퀘어 | 2023년 7월\n",
      "27. [국내도서] 너무나 많은 여름이  \n",
      "28. [국내도서] 갈라테이아 \n",
      "29. [국내도서] 스킵과 로퍼 6 \n",
      "30. [국내도서] 당신의 인생이 왜 힘들지 않아야 한다고 생각하십니까 \n",
      "31. [국내도서] 하늘과 바람과 별과 인간 \n",
      "32. [국내도서] 수박의 전설 외전 ㅣ 이지은 전설 그림책  \n",
      "33. [국내도서] 메리골드 마음 세탁소 \n",
      "34. [국내도서] 마법천자문 59 ㅣ 손오공의 한자 대탐험 마법천자문 59 \n",
      "35. [국내도서] 내면소통 \n",
      "36. [국내도서] 일이란 무엇인가 \n",
      "37. [국내도서] 그럴 수 있어 \n",
      "38. [국내도서] BEYOND THE STORY 비욘드 더 스토리  \n",
      "39. 유휘운 (지은이) | 메가스터디교육(공무원) | 2023년 7월\n",
      "40. [국내도서] 사장학개론 \n",
      "41. [국내도서] 눈에 갇힌 외딴 산장에서 ㅣ 히가시노 게이고 산장 3부작  \n",
      "42. [국내도서] 있을 법한 모든 것  \n",
      "43. [국내도서] 참을 수 없는 존재의 가벼움 \n",
      "44. [국내도서] 매우 예민한 사람들을 위한 상담소 \n",
      "45. [국내도서] 위기의 역사 \n",
      "46. 최태성 (지은이) | 이투스북 | 2023년 7월\n",
      "47. [국내도서] 모든 삶은 흐른다 \n",
      "48. 윤종식 (지은이) | 데이터에듀 | 2023년 1월\n",
      "49. [국내도서] 돈의 속성 (300쇄 리커버 에디션, 양장)  \n",
      "50. [국내도서] 바다가 들리는 편의점 \n"
     ]
    }
   ],
   "source": [
    "import requests\n",
    "from bs4 import BeautifulSoup\n",
    "url = 'https://www.aladin.co.kr/shop/common/wbest.aspx'\n",
    "res = requests.post(url)\n",
    "soup = BeautifulSoup(res.text, 'html.parser')\n",
    "books = soup.select('.ss_book_box')\n",
    "book_list=[]\n",
    "for book in books:\n",
    "    rank=book.select('tr table div')[0].text\n",
    "    category=book.select('.ss_book_list li')[1].text\n",
    "    title=book.select('.bo3')[0].text\n",
    "    print(rank,category)\n",
    "# for book in books:\n",
    "#     rank = book.select('strong')[0].text\n",
    "#     title = book.select('strong')[1].text\n",
    "#     author = book.select('em')[1].text\n",
    "#     url = 'http://www.yes24.com/' + book.select_one('a')['href']\n",
    "#     img = book.select('.rnk_img img')[0]['src']\n",
    "#     book_list.append([rank,title,author,url,img])\n",
    "#     print(rank,title,author,img)\n",
    "#     print(url)\n",
    "    "
   ]
  }
 ],
 "metadata": {
  "kernelspec": {
   "display_name": "Python 3 (ipykernel)",
   "language": "python",
   "name": "python3"
  },
  "language_info": {
   "codemirror_mode": {
    "name": "ipython",
    "version": 3
   },
   "file_extension": ".py",
   "mimetype": "text/x-python",
   "name": "python",
   "nbconvert_exporter": "python",
   "pygments_lexer": "ipython3",
   "version": "3.11.3"
  }
 },
 "nbformat": 4,
 "nbformat_minor": 5
}
